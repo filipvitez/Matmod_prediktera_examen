{
 "cells": [
  {
   "cell_type": "code",
   "execution_count": 1,
   "metadata": {},
   "source": [
    "from __future__ import print_function\n",
    "from keras.models import Sequential\n",
    "from keras.layers import Dense\n",
    "from keras.wrappers.scikit_learn import KerasRegressor\n",
    "from sklearn.model_selection import cross_val_score\n",
    "from sklearn.model_selection import KFold\n",
    "from sklearn.preprocessing import StandardScaler\n",
    "from sklearn.pipeline import Pipeline\n",
    "import math\n",
    "import os\n",
    "os.environ['KMP_DUPLICATE_LIB_OK']='True'\n",
    "from IPython import display\n",
    "from matplotlib import cm\n",
    "from matplotlib import gridspec\n",
    "from matplotlib import pyplot as plt\n",
    "import numpy as np\n",
    "import pandas as pd\n",
    "from sklearn import metrics"
   ]
  },
  {
   "cell_type": "code",
   "execution_count": 2,
   "metadata": {},
   "outputs": [
    {
     "data": {
      "text/html": [
       "<div>\n",
       "<style scoped>\n",
       "    .dataframe tbody tr th:only-of-type {\n",
       "        vertical-align: middle;\n",
       "    }\n",
       "\n",
       "    .dataframe tbody tr th {\n",
       "        vertical-align: top;\n",
       "    }\n",
       "\n",
       "    .dataframe thead th {\n",
       "        text-align: right;\n",
       "    }\n",
       "</style>\n",
       "<table border=\"1\" class=\"dataframe\">\n",
       "  <thead>\n",
       "    <tr style=\"text-align: right;\">\n",
       "      <th></th>\n",
       "      <th>program</th>\n",
       "      <th>lopnr</th>\n",
       "      <th>female</th>\n",
       "      <th>kull</th>\n",
       "      <th>termin</th>\n",
       "      <th>tnr</th>\n",
       "      <th>status</th>\n",
       "      <th>poang_p</th>\n",
       "      <th>kullnr</th>\n",
       "      <th>ptnr</th>\n",
       "    </tr>\n",
       "  </thead>\n",
       "  <tbody>\n",
       "    <tr>\n",
       "      <th>0</th>\n",
       "      <td>E</td>\n",
       "      <td>1</td>\n",
       "      <td>0</td>\n",
       "      <td>20002</td>\n",
       "      <td>20002</td>\n",
       "      <td>15</td>\n",
       "      <td>-7</td>\n",
       "      <td>6.0</td>\n",
       "      <td>15</td>\n",
       "      <td>1</td>\n",
       "    </tr>\n",
       "    <tr>\n",
       "      <th>1</th>\n",
       "      <td>W</td>\n",
       "      <td>2</td>\n",
       "      <td>1</td>\n",
       "      <td>20112</td>\n",
       "      <td>20112</td>\n",
       "      <td>37</td>\n",
       "      <td>-7</td>\n",
       "      <td>15.0</td>\n",
       "      <td>37</td>\n",
       "      <td>1</td>\n",
       "    </tr>\n",
       "    <tr>\n",
       "      <th>2</th>\n",
       "      <td>D</td>\n",
       "      <td>3</td>\n",
       "      <td>1</td>\n",
       "      <td>20032</td>\n",
       "      <td>20032</td>\n",
       "      <td>21</td>\n",
       "      <td>-7</td>\n",
       "      <td>16.5</td>\n",
       "      <td>21</td>\n",
       "      <td>1</td>\n",
       "    </tr>\n",
       "    <tr>\n",
       "      <th>3</th>\n",
       "      <td>N</td>\n",
       "      <td>4</td>\n",
       "      <td>1</td>\n",
       "      <td>20112</td>\n",
       "      <td>20112</td>\n",
       "      <td>37</td>\n",
       "      <td>-7</td>\n",
       "      <td>30.0</td>\n",
       "      <td>37</td>\n",
       "      <td>1</td>\n",
       "    </tr>\n",
       "    <tr>\n",
       "      <th>4</th>\n",
       "      <td>W</td>\n",
       "      <td>5</td>\n",
       "      <td>1</td>\n",
       "      <td>20112</td>\n",
       "      <td>20112</td>\n",
       "      <td>37</td>\n",
       "      <td>-7</td>\n",
       "      <td>0.0</td>\n",
       "      <td>37</td>\n",
       "      <td>1</td>\n",
       "    </tr>\n",
       "  </tbody>\n",
       "</table>\n",
       "</div>"
      ],
      "text/plain": [
       "  program  lopnr  female   kull  termin  tnr  status  poang_p  kullnr  ptnr\n",
       "0       E      1       0  20002   20002   15      -7      6.0      15     1\n",
       "1       W      2       1  20112   20112   37      -7     15.0      37     1\n",
       "2       D      3       1  20032   20032   21      -7     16.5      21     1\n",
       "3       N      4       1  20112   20112   37      -7     30.0      37     1\n",
       "4       W      5       1  20112   20112   37      -7      0.0      37     1"
      ]
     },
     "execution_count": 2,
     "metadata": {},
     "output_type": "execute_result"
    }
   ],
   "source": [
    "#tf.logging.set_verbosity(tf.logging.ERROR)\n",
    "pd.options.display.max_rows = 20\n",
    "pd.options.display.float_format = '{:.1f}'.format\n",
    "\n",
    "semesters = pd.read_csv('terminsstatus_17.txt', sep = '\\t')\n",
    "semesters.head()"
   ]
  },
  {
   "cell_type": "code",
   "execution_count": 3,
   "metadata": {},
   "outputs": [],
   "source": [
    "delay_one_term = lambda x: x.shift(+1)\n",
    "prev_semesters = semesters.apply(delay_one_term)\n",
    "mean_points = semesters.poang_p.mean()\n",
    "\n",
    "prev = []\n",
    "for i,s in enumerate(semesters.lopnr):\n",
    "    if s == prev_semesters.at[i,'lopnr']:\n",
    "        prev.append(prev_semesters.at[i, 'poang_p'])\n",
    "    else:\n",
    "        prev.append(mean_points)\n",
    "prev_points_pd = pd.DataFrame(prev)\n",
    "semesters['prev_points'] = prev_points_pd"
   ]
  },
  {
   "cell_type": "markdown",
   "metadata": {},
   "source": [
    "# hej'"
   ]
  },
  {
   "cell_type": "code",
   "execution_count": 4,
   "metadata": {},
   "outputs": [],
   "source": [
    "lopnr_prev = 0\n",
    "points_first_semester = []\n",
    "for i, s in enumerate(semesters.lopnr):\n",
    "    if s != lopnr_prev:\n",
    "        p = semesters.at[i, 'poang_p']\n",
    "        points_first_semester.append(p)\n",
    "    else:\n",
    "        points_first_semester.append(p)\n",
    "    lopnr_prev = s\n",
    "pfs_pd = pd.DataFrame(points_first_semester)\n",
    "semesters['points_first_semester'] = pfs_pd"
   ]
  },
  {
   "cell_type": "code",
   "execution_count": 5,
   "metadata": {},
   "outputs": [],
   "source": [
    "lopnr_prev = 0\n",
    "acc_points = []\n",
    "for i, p in enumerate(semesters.lopnr):\n",
    "    if p != lopnr_prev:\n",
    "        acc_points.append(semesters.at[i,'poang_p'])\n",
    "    else:\n",
    "        acc_points.append(acc_points[i-1] + semesters.at[i,'poang_p'])\n",
    "    lopnr_prev = p\n",
    "acc_points_pd = pd.DataFrame(acc_points)\n",
    "#acc_points_pd.head(20)\n",
    "semesters['accumulated_points'] = acc_points_pd"
   ]
  },
  {
   "cell_type": "code",
   "execution_count": 12,
   "metadata": {},
   "outputs": [
    {
     "data": {
      "text/html": [
       "<div>\n",
       "<style scoped>\n",
       "    .dataframe tbody tr th:only-of-type {\n",
       "        vertical-align: middle;\n",
       "    }\n",
       "\n",
       "    .dataframe tbody tr th {\n",
       "        vertical-align: top;\n",
       "    }\n",
       "\n",
       "    .dataframe thead th {\n",
       "        text-align: right;\n",
       "    }\n",
       "</style>\n",
       "<table border=\"1\" class=\"dataframe\">\n",
       "  <thead>\n",
       "    <tr style=\"text-align: right;\">\n",
       "      <th></th>\n",
       "      <th>program</th>\n",
       "      <th>lopnr</th>\n",
       "      <th>female</th>\n",
       "      <th>kull</th>\n",
       "      <th>termin</th>\n",
       "      <th>tnr</th>\n",
       "      <th>status</th>\n",
       "      <th>poang_p</th>\n",
       "      <th>kullnr</th>\n",
       "      <th>ptnr</th>\n",
       "      <th>prev_points</th>\n",
       "      <th>points_first_semester</th>\n",
       "      <th>accumulated_points</th>\n",
       "      <th>zero_semesters</th>\n",
       "    </tr>\n",
       "  </thead>\n",
       "  <tbody>\n",
       "    <tr>\n",
       "      <th>0</th>\n",
       "      <td>E</td>\n",
       "      <td>1</td>\n",
       "      <td>0</td>\n",
       "      <td>20002</td>\n",
       "      <td>20002</td>\n",
       "      <td>15</td>\n",
       "      <td>-7</td>\n",
       "      <td>6.0</td>\n",
       "      <td>15</td>\n",
       "      <td>1</td>\n",
       "      <td>16.1</td>\n",
       "      <td>6.0</td>\n",
       "      <td>6.0</td>\n",
       "      <td>0</td>\n",
       "    </tr>\n",
       "    <tr>\n",
       "      <th>1</th>\n",
       "      <td>W</td>\n",
       "      <td>2</td>\n",
       "      <td>1</td>\n",
       "      <td>20112</td>\n",
       "      <td>20112</td>\n",
       "      <td>37</td>\n",
       "      <td>-7</td>\n",
       "      <td>15.0</td>\n",
       "      <td>37</td>\n",
       "      <td>1</td>\n",
       "      <td>16.1</td>\n",
       "      <td>15.0</td>\n",
       "      <td>15.0</td>\n",
       "      <td>0</td>\n",
       "    </tr>\n",
       "    <tr>\n",
       "      <th>2</th>\n",
       "      <td>D</td>\n",
       "      <td>3</td>\n",
       "      <td>1</td>\n",
       "      <td>20032</td>\n",
       "      <td>20032</td>\n",
       "      <td>21</td>\n",
       "      <td>-7</td>\n",
       "      <td>16.5</td>\n",
       "      <td>21</td>\n",
       "      <td>1</td>\n",
       "      <td>16.1</td>\n",
       "      <td>16.5</td>\n",
       "      <td>16.5</td>\n",
       "      <td>0</td>\n",
       "    </tr>\n",
       "    <tr>\n",
       "      <th>3</th>\n",
       "      <td>N</td>\n",
       "      <td>4</td>\n",
       "      <td>1</td>\n",
       "      <td>20112</td>\n",
       "      <td>20112</td>\n",
       "      <td>37</td>\n",
       "      <td>-7</td>\n",
       "      <td>30.0</td>\n",
       "      <td>37</td>\n",
       "      <td>1</td>\n",
       "      <td>16.1</td>\n",
       "      <td>30.0</td>\n",
       "      <td>30.0</td>\n",
       "      <td>0</td>\n",
       "    </tr>\n",
       "    <tr>\n",
       "      <th>4</th>\n",
       "      <td>W</td>\n",
       "      <td>5</td>\n",
       "      <td>1</td>\n",
       "      <td>20112</td>\n",
       "      <td>20112</td>\n",
       "      <td>37</td>\n",
       "      <td>-7</td>\n",
       "      <td>0.0</td>\n",
       "      <td>37</td>\n",
       "      <td>1</td>\n",
       "      <td>16.1</td>\n",
       "      <td>0.0</td>\n",
       "      <td>0.0</td>\n",
       "      <td>1</td>\n",
       "    </tr>\n",
       "  </tbody>\n",
       "</table>\n",
       "</div>"
      ],
      "text/plain": [
       "  program  lopnr  female   kull  termin  tnr  status  poang_p  kullnr  ptnr  \\\n",
       "0       E      1       0  20002   20002   15      -7      6.0      15     1   \n",
       "1       W      2       1  20112   20112   37      -7     15.0      37     1   \n",
       "2       D      3       1  20032   20032   21      -7     16.5      21     1   \n",
       "3       N      4       1  20112   20112   37      -7     30.0      37     1   \n",
       "4       W      5       1  20112   20112   37      -7      0.0      37     1   \n",
       "\n",
       "   prev_points  points_first_semester  accumulated_points  zero_semesters  \n",
       "0         16.1                    6.0                 6.0               0  \n",
       "1         16.1                   15.0                15.0               0  \n",
       "2         16.1                   16.5                16.5               0  \n",
       "3         16.1                   30.0                30.0               0  \n",
       "4         16.1                    0.0                 0.0               1  "
      ]
     },
     "execution_count": 12,
     "metadata": {},
     "output_type": "execute_result"
    }
   ],
   "source": [
    "pd.options.display.max_rows = 40\n",
    "lopnr_prev = 0\n",
    "zero_semesters = [0]*semesters.shape[0]\n",
    "for i, s in enumerate(semesters.lopnr):\n",
    "    if semesters.at[i,'poang_p'] == 0:\n",
    "        if s != lopnr_prev:\n",
    "            zero_semesters[i] += 1\n",
    "        else:\n",
    "            zero_semesters[i] = zero_semesters[i-1]+1\n",
    "        lopnr_prev = s\n",
    "zs_pd = pd.DataFrame(zero_semesters)\n",
    "semesters['zero_semesters'] = zs_pd\n",
    "semesters.head()"
   ]
  },
  {
   "cell_type": "markdown",
   "metadata": {},
   "source": [
    "# One-hot encoda string variables"
   ]
  },
  {
   "cell_type": "code",
   "execution_count": 7,
   "metadata": {},
   "outputs": [
    {
     "name": "stderr",
     "output_type": "stream",
     "text": [
      "/anaconda3/lib/python3.6/site-packages/sklearn/preprocessing/_encoders.py:368: FutureWarning: The handling of integer data will change in version 0.22. Currently, the categories are determined based on the range [0, max(values)], while in the future they will be determined based on the unique values.\n",
      "If you want the future behaviour and silence this warning, you can specify \"categories='auto'\".\n",
      "In case you used a LabelEncoder before this OneHotEncoder to convert the categories to integers, then you can now use the OneHotEncoder directly.\n",
      "  warnings.warn(msg, FutureWarning)\n"
     ]
    },
    {
     "data": {
      "text/plain": [
       "array([[0., 0., 0., ..., 0., 0., 0.],\n",
       "       [0., 0., 0., ..., 0., 0., 1.],\n",
       "       [0., 0., 1., ..., 0., 0., 0.],\n",
       "       ...,\n",
       "       [0., 0., 0., ..., 0., 0., 0.],\n",
       "       [0., 0., 0., ..., 0., 0., 0.],\n",
       "       [0., 0., 0., ..., 0., 0., 1.]])"
      ]
     },
     "execution_count": 7,
     "metadata": {},
     "output_type": "execute_result"
    }
   ],
   "source": [
    "# kod för det här\n",
    "from sklearn.preprocessing import OneHotEncoder\n",
    "from sklearn.preprocessing import LabelEncoder\n",
    "\n",
    "values = semesters.program.copy()\n",
    "label_encoder = LabelEncoder()\n",
    "integer_encoded = label_encoder.fit_transform(values)\n",
    "onehot_encoder = OneHotEncoder(sparse=False)\n",
    "integer_encoded = integer_encoded.reshape(len(integer_encoded), 1)\n",
    "onehot_encoded = onehot_encoder.fit_transform(integer_encoded)\n",
    "onehot_encoded\n",
    "#print(len(onehot_encoded))\n",
    "#semesters['one_hot_programs'] = onehot_encoded\n",
    "#semesters.head()"
   ]
  },
  {
   "cell_type": "markdown",
   "metadata": {},
   "source": [
    "# Välj vilka features vi vill ha"
   ]
  },
  {
   "cell_type": "code",
   "execution_count": 117,
   "metadata": {},
   "outputs": [
    {
     "data": {
      "text/plain": [
       "(246728, 42)"
      ]
     },
     "execution_count": 117,
     "metadata": {},
     "output_type": "execute_result"
    }
   ],
   "source": [
    "semesters['one_hot'] = pd.Categorical(semesters['program'])\n",
    "\n",
    "dfDummies = pd.get_dummies(semesters['one_hot'])\n",
    "semesters2 = pd.concat([semesters, dfDummies],axis=1)\n",
    "\n",
    "semesters2['one_hot2'] = pd.Categorical(semesters2['kull'])\n",
    "one_hot_kull = pd.get_dummies(semesters2['one_hot2'])\n",
    "one_hot_kull\n",
    "semesters2 = pd.concat([semesters2, one_hot_kull], axis=1)\n",
    "x = (semesters2[['status', 'prev_points', 'points_first_semester', 'accumulated_points', 'zero_semesters', 'B', 'C', 'D', 'E', 'F', 'G', 'I', 'K', 'L', 'M', 'N', 'P', 'T', 'V', 'W', 19932, 19942,19952,19962, 19972, 19982, 19992, 20002,20012,20022, 20032, 20042, 20052, 20062, 20072, 20082, 20092, 20102, 20112,20132, 20142, 20152]]).values\n",
    "#x = (semesters2[['status', 'prev_points', 'points_first_semester', 'accumulated_points', 'zero_semesters', 'B', 'C', 'D', 'E', 'F', 'G', 'I', 'K', 'L', 'M', 'N', 'P', 'T', 'V', 'W']]).values\n",
    "y = semesters2.iloc[:, 8].values\n",
    "x.shape\n",
    "#semesters2.columns\n",
    "#print(semesters.groupby(['program', 'ptnr']).poang_p.describe())\n",
    "\n"
   ]
  },
  {
   "cell_type": "markdown",
   "metadata": {},
   "source": [
    "# Encoda string-variables (när de används)"
   ]
  },
  {
   "cell_type": "code",
   "execution_count": 27,
   "metadata": {},
   "outputs": [
    {
     "name": "stderr",
     "output_type": "stream",
     "text": [
      "/Users/filipvitez/anaconda3/envs/matmod_env/lib/python3.6/site-packages/sklearn/preprocessing/_encoders.py:368: FutureWarning: The handling of integer data will change in version 0.22. Currently, the categories are determined based on the range [0, max(values)], while in the future they will be determined based on the unique values.\n",
      "If you want the future behaviour and silence this warning, you can specify \"categories='auto'\".\n",
      "In case you used a LabelEncoder before this OneHotEncoder to convert the categories to integers, then you can now use the OneHotEncoder directly.\n",
      "  warnings.warn(msg, FutureWarning)\n"
     ]
    },
    {
     "data": {
      "text/plain": [
       "array([[0., 0., 0., 1., 0., 0., 0., 0., 0., 0., 0., 0., 0., 0., 0.],\n",
       "       [0., 0., 0., 0., 0., 0., 0., 0., 0., 0., 0., 0., 0., 0., 1.],\n",
       "       [0., 0., 1., 0., 0., 0., 0., 0., 0., 0., 0., 0., 0., 0., 0.],\n",
       "       [0., 0., 0., 0., 0., 0., 0., 0., 0., 0., 1., 0., 0., 0., 0.],\n",
       "       [0., 0., 0., 0., 1., 0., 0., 0., 0., 0., 0., 0., 0., 0., 0.],\n",
       "       [0., 0., 0., 0., 0., 0., 0., 0., 0., 0., 0., 0., 0., 1., 0.],\n",
       "       [1., 0., 0., 0., 0., 0., 0., 0., 0., 0., 0., 0., 0., 0., 0.],\n",
       "       [0., 0., 0., 0., 0., 0., 0., 1., 0., 0., 0., 0., 0., 0., 0.],\n",
       "       [0., 0., 0., 0., 0., 0., 1., 0., 0., 0., 0., 0., 0., 0., 0.],\n",
       "       [0., 1., 0., 0., 0., 0., 0., 0., 0., 0., 0., 0., 0., 0., 0.],\n",
       "       [0., 0., 0., 0., 0., 1., 0., 0., 0., 0., 0., 0., 0., 0., 0.],\n",
       "       [0., 0., 0., 0., 0., 0., 0., 0., 0., 0., 0., 1., 0., 0., 0.],\n",
       "       [0., 0., 0., 0., 0., 0., 0., 0., 0., 1., 0., 0., 0., 0., 0.],\n",
       "       [0., 0., 0., 0., 0., 0., 0., 0., 1., 0., 0., 0., 0., 0., 0.],\n",
       "       [0., 0., 0., 0., 0., 0., 0., 0., 0., 0., 0., 0., 1., 0., 0.]])"
      ]
     },
     "execution_count": 27,
     "metadata": {},
     "output_type": "execute_result"
    }
   ],
   "source": [
    "# kod för det här\n",
    "from sklearn.preprocessing import OneHotEncoder\n",
    "from sklearn.preprocessing import LabelEncoder\n",
    "\n",
    "values = semesters.program.unique().copy()\n",
    "label_encoder = LabelEncoder()\n",
    "integer_encoded = label_encoder.fit_transform(values)\n",
    "onehot_encoder = OneHotEncoder(sparse=False)\n",
    "integer_encoded = integer_encoded.reshape(len(integer_encoded), 1)\n",
    "onehot_encoded = onehot_encoder.fit_transform(integer_encoded)\n",
    "onehot_encoded"
   ]
  },
  {
   "cell_type": "markdown",
   "metadata": {},
   "source": [
    "# Dela upp i träning och test"
   ]
  },
  {
   "cell_type": "code",
   "execution_count": 118,
   "metadata": {},
   "outputs": [],
   "source": [
    "# Splitting the dataset into the Training set and Test set\n",
    "from sklearn.model_selection import train_test_split\n",
    "X_train, X_test, y_train, y_test = train_test_split(x, y, test_size = 0.2)"
   ]
  },
  {
   "cell_type": "markdown",
   "metadata": {},
   "source": [
    "# Scalea numeriska värden"
   ]
  },
  {
   "cell_type": "code",
   "execution_count": 69,
   "metadata": {},
   "outputs": [
    {
     "name": "stdout",
     "output_type": "stream",
     "text": [
      "[[ 5.  19.5 17.  ...  0.   0.   0. ]\n",
      " [ 4.  31.5 30.  ...  0.   0.   0. ]\n",
      " [ 7.   0.  25.5 ...  0.   0.   0. ]\n",
      " ...\n",
      " [ 9.  12.  15.  ...  0.   0.   0. ]\n",
      " [-4.   0.   7.5 ...  0.   0.   0. ]\n",
      " [ 6.  31.5 18.  ...  0.   0.   0. ]]\n"
     ]
    }
   ],
   "source": [
    "print(X_train)\n",
    "from sklearn.preprocessing import StandardScaler\n",
    "#sc = StandardScaler()\n",
    "#X_train = sc.fit_transform(X_train)\n",
    "#X_test = sc.transform(X_test)\n",
    "#X_train"
   ]
  },
  {
   "cell_type": "markdown",
   "metadata": {},
   "source": [
    "# Building the NN"
   ]
  },
  {
   "cell_type": "code",
   "execution_count": 119,
   "metadata": {},
   "outputs": [
    {
     "name": "stdout",
     "output_type": "stream",
     "text": [
      "Epoch 1/20\n",
      "197382/197382 [==============================] - 6s 29us/step - loss: 34.1326 - mean_squared_error: 34.1326\n",
      "Epoch 2/20\n",
      "197382/197382 [==============================] - 4s 21us/step - loss: 0.2894 - mean_squared_error: 0.2894\n",
      "Epoch 3/20\n",
      "197382/197382 [==============================] - 4s 21us/step - loss: 0.1409 - mean_squared_error: 0.1409\n",
      "Epoch 4/20\n",
      "197382/197382 [==============================] - 4s 21us/step - loss: 0.1668 - mean_squared_error: 0.1668\n",
      "Epoch 5/20\n",
      "197382/197382 [==============================] - 4s 21us/step - loss: 0.1567 - mean_squared_error: 0.1567\n",
      "Epoch 6/20\n",
      "197382/197382 [==============================] - 4s 21us/step - loss: 0.0961 - mean_squared_error: 0.0961\n",
      "Epoch 7/20\n",
      "197382/197382 [==============================] - 4s 21us/step - loss: 0.0925 - mean_squared_error: 0.0925\n",
      "Epoch 8/20\n",
      "197382/197382 [==============================] - 4s 21us/step - loss: 0.1122 - mean_squared_error: 0.1122 0s - loss:\n",
      "Epoch 9/20\n",
      "197382/197382 [==============================] - 5s 23us/step - loss: 0.1537 - mean_squared_error: 0.1537\n",
      "Epoch 10/20\n",
      "197382/197382 [==============================] - 4s 21us/step - loss: 0.1397 - mean_squared_error: 0.1397\n",
      "Epoch 11/20\n",
      "197382/197382 [==============================] - 5s 23us/step - loss: 0.0881 - mean_squared_error: 0.0881 1s\n",
      "Epoch 12/20\n",
      "197382/197382 [==============================] - 4s 22us/step - loss: 0.0667 - mean_squared_error: 0.0667\n",
      "Epoch 13/20\n",
      "197382/197382 [==============================] - 4s 22us/step - loss: 0.0800 - mean_squared_error: 0.0800\n",
      "Epoch 14/20\n",
      "197382/197382 [==============================] - 4s 22us/step - loss: 0.0847 - mean_squared_error: 0.0847\n",
      "Epoch 15/20\n",
      "197382/197382 [==============================] - 5s 23us/step - loss: 0.0672 - mean_squared_error: 0.0672\n",
      "Epoch 16/20\n",
      "197382/197382 [==============================] - 4s 22us/step - loss: 0.0867 - mean_squared_error: 0.0867\n",
      "Epoch 17/20\n",
      "197382/197382 [==============================] - 5s 23us/step - loss: 0.0816 - mean_squared_error: 0.0816\n",
      "Epoch 18/20\n",
      "197382/197382 [==============================] - 5s 23us/step - loss: 0.0625 - mean_squared_error: 0.0625\n",
      "Epoch 19/20\n",
      "197382/197382 [==============================] - 5s 25us/step - loss: 0.0647 - mean_squared_error: 0.0647\n",
      "Epoch 20/20\n",
      "197382/197382 [==============================] - 5s 24us/step - loss: 0.0675 - mean_squared_error: 0.0675\n"
     ]
    }
   ],
   "source": [
    "# Importing the Keras libraries and packages\n",
    "import keras\n",
    "from keras.models import Sequential\n",
    "from keras.layers import Dense\n",
    "model = Sequential()\n",
    "model.add(Dense(64, input_dim=42, kernel_initializer='normal', \n",
    "                activation='relu'))\n",
    "model.add(Dense(64, kernel_initializer='normal', \n",
    "                activation='relu'))\n",
    "\n",
    "#model.add(Dropout(0.5))\n",
    "model.add(Dense(1, kernel_initializer='normal'))\n",
    "# Compile model\n",
    "\n",
    "model.compile(loss='mean_squared_error', optimizer='adam',\n",
    "              metrics=['mse'])\n",
    "\n",
    "history = model.fit(X_train,y_train,epochs=20, batch_size=128)\n"
   ]
  },
  {
   "cell_type": "code",
   "execution_count": 73,
   "metadata": {},
   "outputs": [
    {
     "name": "stdout",
     "output_type": "stream",
     "text": [
      "_________________________________________________________________\n",
      "Layer (type)                 Output Shape              Param #   \n",
      "=================================================================\n",
      "dense_7 (Dense)              (None, 64)                1344      \n",
      "_________________________________________________________________\n",
      "dense_8 (Dense)              (None, 64)                4160      \n",
      "_________________________________________________________________\n",
      "dense_9 (Dense)              (None, 1)                 65        \n",
      "=================================================================\n",
      "Total params: 5,569\n",
      "Trainable params: 5,569\n",
      "Non-trainable params: 0\n",
      "_________________________________________________________________\n"
     ]
    }
   ],
   "source": [
    "model.summary()"
   ]
  },
  {
   "cell_type": "code",
   "execution_count": 75,
   "metadata": {},
   "outputs": [
    {
     "data": {
      "image/png": "[encoded data removed]",
      "text/plain": [
       "<Figure size 432x288 with 1 Axes>"
      ]
     },
     "metadata": {
      "needs_background": "light"
     },
     "output_type": "display_data"
    }
   ],
   "source": [
    "import matplotlib.pyplot as plt\n",
    "\n",
    "loss = history.history['loss']\n",
    "num_epochs = np.arange(20)\n",
    "plt.plot(num_epochs, loss)\n",
    "plt.show()"
   ]
  },
  {
   "cell_type": "code",
   "execution_count": 76,
   "metadata": {},
   "outputs": [
    {
     "data": {
      "text/plain": [
       "{'loss': [113.01339595017869,\n",
       "  95.40437242414181,\n",
       "  93.94770734082171,\n",
       "  92.91863748180293,\n",
       "  92.17853250563549,\n",
       "  91.76262489333767,\n",
       "  91.24708083182021,\n",
       "  91.01971629248351,\n",
       "  90.72860756890212,\n",
       "  90.54830021339347,\n",
       "  90.07178203026432,\n",
       "  89.929748886898,\n",
       "  89.67623536305634,\n",
       "  89.43301458579376,\n",
       "  89.27895033392504,\n",
       "  89.00498549847923,\n",
       "  88.80547789208505,\n",
       "  88.70274799151842,\n",
       "  88.56474130539291,\n",
       "  88.4628584621595],\n",
       " 'mean_squared_error': [113.01339595017869,\n",
       "  95.40437242414181,\n",
       "  93.94770734082171,\n",
       "  92.91863748180293,\n",
       "  92.17853250563549,\n",
       "  91.76262489333767,\n",
       "  91.24708083182021,\n",
       "  91.01971629248351,\n",
       "  90.72860756890212,\n",
       "  90.54830021339347,\n",
       "  90.07178203026432,\n",
       "  89.929748886898,\n",
       "  89.67623536305634,\n",
       "  89.43301458579376,\n",
       "  89.27895033392504,\n",
       "  89.00498549847923,\n",
       "  88.80547789208505,\n",
       "  88.70274799151842,\n",
       "  88.56474130539291,\n",
       "  88.4628584621595]}"
      ]
     },
     "execution_count": 76,
     "metadata": {},
     "output_type": "execute_result"
    }
   ],
   "source": [
    "history.history"
   ]
  },
  {
   "cell_type": "code",
   "execution_count": null,
   "metadata": {},
   "outputs": [],
   "source": []
  }
 ],
 "metadata": {
  "kernelspec": {
   "display_name": "Python 3",
   "language": "python",
   "name": "python3"
  },
  "language_info": {
   "codemirror_mode": {
    "name": "ipython",
    "version": 3
   },
   "file_extension": ".py",
   "mimetype": "text/x-python",
   "name": "python",
   "nbconvert_exporter": "python",
   "pygments_lexer": "ipython3",
   "version": "3.6.8"
  }
 },
 "nbformat": 4,
 "nbformat_minor": 2
}
