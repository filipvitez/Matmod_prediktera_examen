{
 "cells": [
  {
   "cell_type": "markdown",
   "metadata": {},
   "source": [
    "# Importera nödvändiga paket"
   ]
  },
  {
   "cell_type": "code",
   "execution_count": 1,
   "metadata": {},
   "outputs": [
    {
     "name": "stderr",
     "output_type": "stream",
     "text": [
      "Using TensorFlow backend.\n"
     ]
    }
   ],
   "source": [
    "from __future__ import print_function\n",
    "from keras.models import Sequential\n",
    "from keras.layers import Dense\n",
    "from keras.wrappers.scikit_learn import KerasRegressor\n",
    "from sklearn.model_selection import cross_val_score\n",
    "from sklearn.model_selection import KFold\n",
    "from sklearn.preprocessing import StandardScaler\n",
    "from sklearn.pipeline import Pipeline\n",
    "import math\n",
    "import os\n",
    "os.environ['KMP_DUPLICATE_LIB_OK']='True'\n",
    "from IPython import display\n",
    "from matplotlib import cm\n",
    "from matplotlib import gridspec\n",
    "from matplotlib import pyplot as plt\n",
    "import numpy as np\n",
    "import pandas as pd\n",
    "from sklearn import metrics"
   ]
  },
  {
   "cell_type": "markdown",
   "metadata": {},
   "source": [
    "# Läs in terminsdata från csv-fil"
   ]
  },
  {
   "cell_type": "code",
   "execution_count": 44,
   "metadata": {},
   "outputs": [
    {
     "data": {
      "text/html": [
       "<div>\n",
       "<style scoped>\n",
       "    .dataframe tbody tr th:only-of-type {\n",
       "        vertical-align: middle;\n",
       "    }\n",
       "\n",
       "    .dataframe tbody tr th {\n",
       "        vertical-align: top;\n",
       "    }\n",
       "\n",
       "    .dataframe thead th {\n",
       "        text-align: right;\n",
       "    }\n",
       "</style>\n",
       "<table border=\"1\" class=\"dataframe\">\n",
       "  <thead>\n",
       "    <tr style=\"text-align: right;\">\n",
       "      <th></th>\n",
       "      <th>program</th>\n",
       "      <th>lopnr</th>\n",
       "      <th>female</th>\n",
       "      <th>kull</th>\n",
       "      <th>termin</th>\n",
       "      <th>tnr</th>\n",
       "      <th>status</th>\n",
       "      <th>poang_p</th>\n",
       "      <th>kullnr</th>\n",
       "      <th>ptnr</th>\n",
       "    </tr>\n",
       "  </thead>\n",
       "  <tbody>\n",
       "    <tr>\n",
       "      <th>0</th>\n",
       "      <td>E</td>\n",
       "      <td>1</td>\n",
       "      <td>0</td>\n",
       "      <td>20002</td>\n",
       "      <td>20002</td>\n",
       "      <td>15</td>\n",
       "      <td>-7</td>\n",
       "      <td>6.0</td>\n",
       "      <td>15</td>\n",
       "      <td>1</td>\n",
       "    </tr>\n",
       "    <tr>\n",
       "      <th>1</th>\n",
       "      <td>W</td>\n",
       "      <td>2</td>\n",
       "      <td>1</td>\n",
       "      <td>20112</td>\n",
       "      <td>20112</td>\n",
       "      <td>37</td>\n",
       "      <td>-7</td>\n",
       "      <td>15.0</td>\n",
       "      <td>37</td>\n",
       "      <td>1</td>\n",
       "    </tr>\n",
       "    <tr>\n",
       "      <th>2</th>\n",
       "      <td>D</td>\n",
       "      <td>3</td>\n",
       "      <td>1</td>\n",
       "      <td>20032</td>\n",
       "      <td>20032</td>\n",
       "      <td>21</td>\n",
       "      <td>-7</td>\n",
       "      <td>16.5</td>\n",
       "      <td>21</td>\n",
       "      <td>1</td>\n",
       "    </tr>\n",
       "    <tr>\n",
       "      <th>3</th>\n",
       "      <td>N</td>\n",
       "      <td>4</td>\n",
       "      <td>1</td>\n",
       "      <td>20112</td>\n",
       "      <td>20112</td>\n",
       "      <td>37</td>\n",
       "      <td>-7</td>\n",
       "      <td>30.0</td>\n",
       "      <td>37</td>\n",
       "      <td>1</td>\n",
       "    </tr>\n",
       "    <tr>\n",
       "      <th>4</th>\n",
       "      <td>W</td>\n",
       "      <td>5</td>\n",
       "      <td>1</td>\n",
       "      <td>20112</td>\n",
       "      <td>20112</td>\n",
       "      <td>37</td>\n",
       "      <td>-7</td>\n",
       "      <td>0.0</td>\n",
       "      <td>37</td>\n",
       "      <td>1</td>\n",
       "    </tr>\n",
       "  </tbody>\n",
       "</table>\n",
       "</div>"
      ],
      "text/plain": [
       "  program  lopnr  female   kull  termin  tnr  status  poang_p  kullnr  ptnr\n",
       "0       E      1       0  20002   20002   15      -7      6.0      15     1\n",
       "1       W      2       1  20112   20112   37      -7     15.0      37     1\n",
       "2       D      3       1  20032   20032   21      -7     16.5      21     1\n",
       "3       N      4       1  20112   20112   37      -7     30.0      37     1\n",
       "4       W      5       1  20112   20112   37      -7      0.0      37     1"
      ]
     },
     "execution_count": 44,
     "metadata": {},
     "output_type": "execute_result"
    }
   ],
   "source": [
    "#tf.logging.set_verbosity(tf.logging.ERROR)\n",
    "pd.options.display.max_rows = 20\n",
    "pd.options.display.float_format = '{:.1f}'.format\n",
    "pd.set_option('precision', 7)\n",
    "semesters = pd.read_csv('terminsstatus_17.txt', sep = '\\t')\n",
    "semesters.head()"
   ]
  },
  {
   "cell_type": "markdown",
   "metadata": {},
   "source": [
    "# Lägg till kolumn för poäng tagna föregående termin. Om föregående termin ej finns, gissa på medelvärdet av alla terminer "
   ]
  },
  {
   "cell_type": "code",
   "execution_count": 46,
   "metadata": {},
   "outputs": [],
   "source": [
    "delay_one_term = lambda x: x.shift(+1)\n",
    "prev_semesters = semesters.apply(delay_one_term)\n",
    "mean_points = semesters.poang_p.mean()\n",
    "\n",
    "prev = []\n",
    "for i,s in enumerate(semesters.lopnr):\n",
    "    if s == prev_semesters.at[i,'lopnr']:\n",
    "        prev.append(prev_semesters.at[i, 'poang_p'])\n",
    "    else:\n",
    "        prev.append(mean_points)\n",
    "prev_points_pd = pd.DataFrame(prev)\n",
    "semesters['prev_points'] = prev_points_pd"
   ]
  },
  {
   "cell_type": "markdown",
   "metadata": {},
   "source": [
    "# Lägg till kolumn för poäng tagna första termin"
   ]
  },
  {
   "cell_type": "code",
   "execution_count": 47,
   "metadata": {},
   "outputs": [],
   "source": [
    "lopnr_prev = 0\n",
    "points_first_semester = []\n",
    "for i, s in enumerate(semesters.lopnr):\n",
    "    if s != lopnr_prev:\n",
    "        p = semesters.at[i, 'poang_p']\n",
    "        points_first_semester.append(p)\n",
    "    else:\n",
    "        points_first_semester.append(p)\n",
    "    lopnr_prev = s\n",
    "pfs_pd = pd.DataFrame(points_first_semester)\n",
    "semesters['points_first_semester'] = pfs_pd"
   ]
  },
  {
   "cell_type": "markdown",
   "metadata": {},
   "source": [
    "# Lägg till kolumn för ackumulerade poäng"
   ]
  },
  {
   "cell_type": "code",
   "execution_count": 48,
   "metadata": {},
   "outputs": [],
   "source": [
    "lopnr_prev = 0\n",
    "acc_points = []\n",
    "for i, p in enumerate(semesters.lopnr):\n",
    "    if p != lopnr_prev:\n",
    "        acc_points.append(semesters.at[i,'poang_p'])\n",
    "    else:\n",
    "        acc_points.append(acc_points[i-1] + semesters.at[i,'poang_p'])\n",
    "    lopnr_prev = p\n",
    "acc_points_pd = pd.DataFrame(acc_points)\n",
    "#acc_points_pd.head(20)\n",
    "semesters['accumulated_points'] = acc_points_pd"
   ]
  },
  {
   "cell_type": "markdown",
   "metadata": {},
   "source": [
    "# Lägg till kolumn för antalet 0-terminer"
   ]
  },
  {
   "cell_type": "code",
   "execution_count": 49,
   "metadata": {},
   "outputs": [
    {
     "data": {
      "text/html": [
       "<div>\n",
       "<style scoped>\n",
       "    .dataframe tbody tr th:only-of-type {\n",
       "        vertical-align: middle;\n",
       "    }\n",
       "\n",
       "    .dataframe tbody tr th {\n",
       "        vertical-align: top;\n",
       "    }\n",
       "\n",
       "    .dataframe thead th {\n",
       "        text-align: right;\n",
       "    }\n",
       "</style>\n",
       "<table border=\"1\" class=\"dataframe\">\n",
       "  <thead>\n",
       "    <tr style=\"text-align: right;\">\n",
       "      <th></th>\n",
       "      <th>program</th>\n",
       "      <th>lopnr</th>\n",
       "      <th>female</th>\n",
       "      <th>kull</th>\n",
       "      <th>termin</th>\n",
       "      <th>tnr</th>\n",
       "      <th>status</th>\n",
       "      <th>poang_p</th>\n",
       "      <th>kullnr</th>\n",
       "      <th>ptnr</th>\n",
       "      <th>zero_semesters</th>\n",
       "      <th>prev_points</th>\n",
       "      <th>points_first_semester</th>\n",
       "      <th>accumulated_points</th>\n",
       "    </tr>\n",
       "  </thead>\n",
       "  <tbody>\n",
       "    <tr>\n",
       "      <th>0</th>\n",
       "      <td>E</td>\n",
       "      <td>1</td>\n",
       "      <td>0</td>\n",
       "      <td>20002</td>\n",
       "      <td>20002</td>\n",
       "      <td>15</td>\n",
       "      <td>-7</td>\n",
       "      <td>6.0</td>\n",
       "      <td>15</td>\n",
       "      <td>1</td>\n",
       "      <td>0</td>\n",
       "      <td>16.1</td>\n",
       "      <td>6.0</td>\n",
       "      <td>6.0</td>\n",
       "    </tr>\n",
       "    <tr>\n",
       "      <th>1</th>\n",
       "      <td>W</td>\n",
       "      <td>2</td>\n",
       "      <td>1</td>\n",
       "      <td>20112</td>\n",
       "      <td>20112</td>\n",
       "      <td>37</td>\n",
       "      <td>-7</td>\n",
       "      <td>15.0</td>\n",
       "      <td>37</td>\n",
       "      <td>1</td>\n",
       "      <td>0</td>\n",
       "      <td>16.1</td>\n",
       "      <td>15.0</td>\n",
       "      <td>15.0</td>\n",
       "    </tr>\n",
       "    <tr>\n",
       "      <th>2</th>\n",
       "      <td>D</td>\n",
       "      <td>3</td>\n",
       "      <td>1</td>\n",
       "      <td>20032</td>\n",
       "      <td>20032</td>\n",
       "      <td>21</td>\n",
       "      <td>-7</td>\n",
       "      <td>16.5</td>\n",
       "      <td>21</td>\n",
       "      <td>1</td>\n",
       "      <td>0</td>\n",
       "      <td>16.1</td>\n",
       "      <td>16.5</td>\n",
       "      <td>16.5</td>\n",
       "    </tr>\n",
       "    <tr>\n",
       "      <th>3</th>\n",
       "      <td>N</td>\n",
       "      <td>4</td>\n",
       "      <td>1</td>\n",
       "      <td>20112</td>\n",
       "      <td>20112</td>\n",
       "      <td>37</td>\n",
       "      <td>-7</td>\n",
       "      <td>30.0</td>\n",
       "      <td>37</td>\n",
       "      <td>1</td>\n",
       "      <td>0</td>\n",
       "      <td>16.1</td>\n",
       "      <td>30.0</td>\n",
       "      <td>30.0</td>\n",
       "    </tr>\n",
       "    <tr>\n",
       "      <th>4</th>\n",
       "      <td>W</td>\n",
       "      <td>5</td>\n",
       "      <td>1</td>\n",
       "      <td>20112</td>\n",
       "      <td>20112</td>\n",
       "      <td>37</td>\n",
       "      <td>-7</td>\n",
       "      <td>0.0</td>\n",
       "      <td>37</td>\n",
       "      <td>1</td>\n",
       "      <td>1</td>\n",
       "      <td>16.1</td>\n",
       "      <td>0.0</td>\n",
       "      <td>0.0</td>\n",
       "    </tr>\n",
       "  </tbody>\n",
       "</table>\n",
       "</div>"
      ],
      "text/plain": [
       "  program  lopnr  female   kull  termin  tnr  status  poang_p  kullnr  ptnr  \\\n",
       "0       E      1       0  20002   20002   15      -7      6.0      15     1   \n",
       "1       W      2       1  20112   20112   37      -7     15.0      37     1   \n",
       "2       D      3       1  20032   20032   21      -7     16.5      21     1   \n",
       "3       N      4       1  20112   20112   37      -7     30.0      37     1   \n",
       "4       W      5       1  20112   20112   37      -7      0.0      37     1   \n",
       "\n",
       "   zero_semesters  prev_points  points_first_semester  accumulated_points  \n",
       "0               0         16.1                    6.0                 6.0  \n",
       "1               0         16.1                   15.0                15.0  \n",
       "2               0         16.1                   16.5                16.5  \n",
       "3               0         16.1                   30.0                30.0  \n",
       "4               1         16.1                    0.0                 0.0  "
      ]
     },
     "execution_count": 49,
     "metadata": {},
     "output_type": "execute_result"
    }
   ],
   "source": [
    "pd.options.display.max_rows = 40\n",
    "lopnr_prev = 0\n",
    "zero_semesters = [0]*semesters.shape[0]\n",
    "for i, s in enumerate(semesters.lopnr):\n",
    "    if semesters.at[i,'poang_p'] == 0:\n",
    "        if s != lopnr_prev:\n",
    "            zero_semesters[i] += 1\n",
    "        else:\n",
    "            zero_semesters[i] = zero_semesters[i-1]+1\n",
    "        lopnr_prev = s\n",
    "zs_pd = pd.DataFrame(zero_semesters)\n",
    "semesters['zero_semesters'] = zs_pd\n",
    "semesters.head()"
   ]
  },
  {
   "cell_type": "markdown",
   "metadata": {},
   "source": [
    "# Se korrelation mellan features och target"
   ]
  },
  {
   "cell_type": "code",
   "execution_count": 53,
   "metadata": {},
   "outputs": [
    {
     "name": "stdout",
     "output_type": "stream",
     "text": [
      "[[ 1.          0.40068405  0.24993911 -0.51408437  0.54570624]\n",
      " [ 0.40068405  1.          0.3357679  -0.349628    0.40950925]\n",
      " [ 0.24993911  0.3357679   1.         -0.20547186  0.1748101 ]\n",
      " [-0.51408437 -0.349628   -0.20547186  1.         -0.50278541]\n",
      " [ 0.54570624  0.40950925  0.1748101  -0.50278541  1.        ]]\n"
     ]
    },
    {
     "name": "stderr",
     "output_type": "stream",
     "text": [
      "/Users/filipvitez/anaconda3/envs/matmod_env/lib/python3.6/site-packages/ipykernel_launcher.py:3: SettingWithCopyWarning: \n",
      "A value is trying to be set on a copy of a slice from a DataFrame.\n",
      "Try using .loc[row_indexer,col_indexer] = value instead\n",
      "\n",
      "See the caveats in the documentation: http://pandas.pydata.org/pandas-docs/stable/indexing.html#indexing-view-versus-copy\n",
      "  This is separate from the ipykernel package so we can avoid doing imports until\n"
     ]
    },
    {
     "data": {
      "text/html": [
       "<div>\n",
       "<style scoped>\n",
       "    .dataframe tbody tr th:only-of-type {\n",
       "        vertical-align: middle;\n",
       "    }\n",
       "\n",
       "    .dataframe tbody tr th {\n",
       "        vertical-align: top;\n",
       "    }\n",
       "\n",
       "    .dataframe thead th {\n",
       "        text-align: right;\n",
       "    }\n",
       "</style>\n",
       "<table border=\"1\" class=\"dataframe\">\n",
       "  <thead>\n",
       "    <tr style=\"text-align: right;\">\n",
       "      <th></th>\n",
       "      <th>prev_points</th>\n",
       "      <th>points_first_semester</th>\n",
       "      <th>accumulated_points</th>\n",
       "      <th>zero_semesters</th>\n",
       "      <th>target</th>\n",
       "    </tr>\n",
       "  </thead>\n",
       "  <tbody>\n",
       "    <tr>\n",
       "      <th>prev_points</th>\n",
       "      <td>1.0</td>\n",
       "      <td>0.4</td>\n",
       "      <td>0.2</td>\n",
       "      <td>-0.5</td>\n",
       "      <td>0.5</td>\n",
       "    </tr>\n",
       "    <tr>\n",
       "      <th>points_first_semester</th>\n",
       "      <td>0.4</td>\n",
       "      <td>1.0</td>\n",
       "      <td>0.3</td>\n",
       "      <td>-0.3</td>\n",
       "      <td>0.4</td>\n",
       "    </tr>\n",
       "    <tr>\n",
       "      <th>accumulated_points</th>\n",
       "      <td>0.2</td>\n",
       "      <td>0.3</td>\n",
       "      <td>1.0</td>\n",
       "      <td>-0.2</td>\n",
       "      <td>0.2</td>\n",
       "    </tr>\n",
       "    <tr>\n",
       "      <th>zero_semesters</th>\n",
       "      <td>-0.5</td>\n",
       "      <td>-0.3</td>\n",
       "      <td>-0.2</td>\n",
       "      <td>1.0</td>\n",
       "      <td>-0.5</td>\n",
       "    </tr>\n",
       "    <tr>\n",
       "      <th>target</th>\n",
       "      <td>0.5</td>\n",
       "      <td>0.4</td>\n",
       "      <td>0.2</td>\n",
       "      <td>-0.5</td>\n",
       "      <td>1.0</td>\n",
       "    </tr>\n",
       "  </tbody>\n",
       "</table>\n",
       "</div>"
      ],
      "text/plain": [
       "                       prev_points  points_first_semester  accumulated_points  \\\n",
       "prev_points                    1.0                    0.4                 0.2   \n",
       "points_first_semester          0.4                    1.0                 0.3   \n",
       "accumulated_points             0.2                    0.3                 1.0   \n",
       "zero_semesters                -0.5                   -0.3                -0.2   \n",
       "target                         0.5                    0.4                 0.2   \n",
       "\n",
       "                       zero_semesters  target  \n",
       "prev_points                      -0.5     0.5  \n",
       "points_first_semester            -0.3     0.4  \n",
       "accumulated_points               -0.2     0.2  \n",
       "zero_semesters                    1.0    -0.5  \n",
       "target                           -0.5     1.0  "
      ]
     },
     "execution_count": 53,
     "metadata": {},
     "output_type": "execute_result"
    }
   ],
   "source": [
    "pd.set_option(\"display.precision\", 5)\n",
    "correlation_dataframe = semesters[['prev_points', 'points_first_semester', 'accumulated_points', 'zero_semesters']]\n",
    "correlation_dataframe[\"target\"] = semesters[\"poang_p\"]\n",
    "#with pd.option_context('display.float_format', '{:0.20f}'.format):\n",
    "print((correlation_dataframe.corr(method ='pearson')).values)\n",
    "(correlation_dataframe.corr(method ='pearson'))\n"
   ]
  },
  {
   "cell_type": "markdown",
   "metadata": {},
   "source": [
    "# One hot-encoda program, kull och status (lopnr hade också behövts men blir för lång vektor)"
   ]
  },
  {
   "cell_type": "code",
   "execution_count": 7,
   "metadata": {},
   "outputs": [],
   "source": [
    "semesters['one_hot'] = pd.Categorical(semesters['program'])\n",
    "\n",
    "dfDummies = pd.get_dummies(semesters['one_hot'])\n",
    "semesters2 = pd.concat([semesters, dfDummies],axis=1)\n",
    "\n",
    "semesters2['one_hot2'] = pd.Categorical(semesters2['kull'])\n",
    "one_hot_kull = pd.get_dummies(semesters2['one_hot2'])\n",
    "\n",
    "\n",
    "one_hot_termstatus = pd.get_dummies(semesters2['status'])\n",
    "\n",
    "semesters2 = pd.concat([semesters2, one_hot_kull], axis=1)\n",
    "semesters2 = pd.concat([semesters2, one_hot_termstatus], axis=1)"
   ]
  },
  {
   "cell_type": "markdown",
   "metadata": {},
   "source": [
    "# Välj vilka features vi vill ha till det neurala nätverket"
   ]
  },
  {
   "cell_type": "code",
   "execution_count": 68,
   "metadata": {},
   "outputs": [
    {
     "name": "stdout",
     "output_type": "stream",
     "text": [
      "[[ 0.         16.11571366  6.         ...  0.          0.\n",
      "   0.        ]\n",
      " [ 1.         16.11571366 15.         ...  0.          0.\n",
      "   0.        ]\n",
      " [ 1.         16.11571366 16.5        ...  0.          0.\n",
      "   0.        ]\n",
      " ...\n",
      " [ 1.         16.11571366 12.         ...  0.          0.\n",
      "   0.        ]\n",
      " [ 1.         16.11571366  0.         ...  0.          0.\n",
      "   0.        ]\n",
      " [ 1.         16.11571366  0.         ...  0.          0.\n",
      "   0.        ]]\n"
     ]
    },
    {
     "data": {
      "text/plain": [
       "(246728, 35)"
      ]
     },
     "execution_count": 68,
     "metadata": {},
     "output_type": "execute_result"
    }
   ],
   "source": [
    "#x = (semesters2[['status', 'prev_points', 'points_first_semester', 'accumulated_points', 'zero_semesters', 'B', 'C', 'D', 'E', 'F', 'G', 'I', 'K', 'L', 'M', 'N', 'P', 'T', 'V', 'W', 19932, 19942,19952,19962, 19972, 19982, 19992, 20002,20012,20022, 20032, 20042, 20052, 20062, 20072, 20082, 20092, 20102, 20112,20132, 20142, 20152]]).values\n",
    "#x = (semesters2[['lopnr','female','status', 'prev_points', 'points_first_semester', 'accumulated_points', 'zero_semesters', 'B', 'C', 'D', 'E', 'F', 'G', 'I', 'K', 'L', 'M', 'N', 'P', 'T', 'V', 'W']]).values\n",
    "x = (semesters2[['female', 'prev_points', 'points_first_semester', 'accumulated_points', 'zero_semesters', 'B', 'C', 'D', 'E', 'F', 'G', 'I', 'K', 'L', 'M', 'N', 'P', 'T', 'V', 'W', -7, -5, -4, -3, -2, 1,2,3,4,5,6,7,8,9,10]]).values\n",
    "#x = (semesters2[['female', 'prev_points', 'points_first_semester', 'accumulated_points', 'zero_semesters', -7, -5, -4, -3, -2, 1,2,3,4,5,6,7,8,9,10]]).values\n",
    "\n",
    "y = semesters2.iloc[:, 8].values\n",
    "print(x)\n",
    "x.shape\n"
   ]
  },
  {
   "cell_type": "markdown",
   "metadata": {},
   "source": [
    "# Scalea numeriska features"
   ]
  },
  {
   "cell_type": "code",
   "execution_count": 9,
   "metadata": {},
   "outputs": [],
   "source": [
    "#for xx in x:\n",
    " #   xx[0] = float((float(xx[0]) - mean)/std)\n",
    "    #xx[1] = float((float(xx[2]) - mean)/std)\n",
    "    #xx[2] = float((float(xx[3]) - mean)/std)\n",
    "    #xx[3] = float((float(xx[4]) - mean)/std)\n",
    "    #xx[4] = float((float(xx[5]) - mean)/std)\n",
    "\n",
    "#from sklearn.preprocessing import StandardScaler\n",
    "#sc = StandardScaler()\n",
    "#X_train[:,0] = sc.fit_transform(X_train[:,0])\n",
    "#X_test[:,0] = sc.transform(X_test[:,0])\n"
   ]
  },
  {
   "cell_type": "markdown",
   "metadata": {},
   "source": [
    "# Dela upp i träning och test"
   ]
  },
  {
   "cell_type": "code",
   "execution_count": 69,
   "metadata": {},
   "outputs": [],
   "source": [
    "# Splitting the dataset into the Training set and Test set\n",
    "from sklearn.model_selection import train_test_split\n",
    "X_train, X_test, y_train, y_test = train_test_split(x, y, test_size = 0.2)"
   ]
  },
  {
   "cell_type": "markdown",
   "metadata": {},
   "source": [
    "# Building the NN"
   ]
  },
  {
   "cell_type": "code",
   "execution_count": 70,
   "metadata": {},
   "outputs": [],
   "source": [
    "# Importing the Keras libraries and packages\n",
    "import keras\n",
    "from keras.models import Sequential\n",
    "from keras.layers import Dense\n",
    "model = Sequential()\n",
    "model.add(Dense(64, input_dim=35, kernel_initializer='normal', \n",
    "                activation='relu'))\n",
    "model.add(Dense(64, kernel_initializer='normal', \n",
    "                activation='relu'))\n",
    "#model.add(Dropout(0.5))\n",
    "model.add(Dense(1, kernel_initializer='normal'))\n",
    "\n"
   ]
  },
  {
   "cell_type": "markdown",
   "metadata": {},
   "source": [
    "# Running the neural network"
   ]
  },
  {
   "cell_type": "code",
   "execution_count": 71,
   "metadata": {},
   "outputs": [
    {
     "name": "stdout",
     "output_type": "stream",
     "text": [
      "Epoch 1/20\n",
      "197382/197382 [==============================] - 4s 20us/step - loss: 127.0755 - mean_squared_error: 127.0755\n",
      "Epoch 2/20\n",
      "197382/197382 [==============================] - 2s 13us/step - loss: 94.5260 - mean_squared_error: 94.5260\n",
      "Epoch 3/20\n",
      "197382/197382 [==============================] - 3s 13us/step - loss: 92.9269 - mean_squared_error: 92.9269\n",
      "Epoch 4/20\n",
      "197382/197382 [==============================] - 2s 13us/step - loss: 91.8382 - mean_squared_error: 91.8382\n",
      "Epoch 5/20\n",
      "197382/197382 [==============================] - 2s 13us/step - loss: 90.7682 - mean_squared_error: 90.7682\n",
      "Epoch 6/20\n",
      "197382/197382 [==============================] - 3s 15us/step - loss: 90.0959 - mean_squared_error: 90.0959\n",
      "Epoch 7/20\n",
      "197382/197382 [==============================] - 3s 14us/step - loss: 89.3238 - mean_squared_error: 89.3238\n",
      "Epoch 8/20\n",
      "197382/197382 [==============================] - 3s 15us/step - loss: 88.7823 - mean_squared_error: 88.7823\n",
      "Epoch 9/20\n",
      "197382/197382 [==============================] - 3s 16us/step - loss: 88.3593 - mean_squared_error: 88.3593\n",
      "Epoch 10/20\n",
      "197382/197382 [==============================] - 3s 14us/step - loss: 88.2023 - mean_squared_error: 88.2023\n",
      "Epoch 11/20\n",
      "197382/197382 [==============================] - 3s 13us/step - loss: 87.8516 - mean_squared_error: 87.8516\n",
      "Epoch 12/20\n",
      "197382/197382 [==============================] - 3s 14us/step - loss: 87.4929 - mean_squared_error: 87.4929\n",
      "Epoch 13/20\n",
      "197382/197382 [==============================] - 3s 14us/step - loss: 87.4138 - mean_squared_error: 87.4138\n",
      "Epoch 14/20\n",
      "197382/197382 [==============================] - 3s 14us/step - loss: 87.4029 - mean_squared_error: 87.4029\n",
      "Epoch 15/20\n",
      "197382/197382 [==============================] - 3s 15us/step - loss: 87.0804 - mean_squared_error: 87.0804\n",
      "Epoch 16/20\n",
      "197382/197382 [==============================] - 3s 15us/step - loss: 87.0458 - mean_squared_error: 87.0458\n",
      "Epoch 17/20\n",
      "197382/197382 [==============================] - 3s 15us/step - loss: 86.8455 - mean_squared_error: 86.8455\n",
      "Epoch 18/20\n",
      "197382/197382 [==============================] - 3s 15us/step - loss: 86.6383 - mean_squared_error: 86.6383\n",
      "Epoch 19/20\n",
      "197382/197382 [==============================] - 3s 15us/step - loss: 86.6083 - mean_squared_error: 86.6083\n",
      "Epoch 20/20\n",
      "197382/197382 [==============================] - 3s 15us/step - loss: 86.3995 - mean_squared_error: 86.3995\n"
     ]
    }
   ],
   "source": [
    "# Compile model\n",
    "\n",
    "model.compile(loss='mean_squared_error', optimizer='adam',\n",
    "              metrics=['mse'])\n",
    "\n",
    "history = model.fit(X_train,y_train,epochs=20, batch_size=256)"
   ]
  },
  {
   "cell_type": "markdown",
   "metadata": {},
   "source": [
    "# Model overview"
   ]
  },
  {
   "cell_type": "code",
   "execution_count": 72,
   "metadata": {},
   "outputs": [
    {
     "name": "stdout",
     "output_type": "stream",
     "text": [
      "_________________________________________________________________\n",
      "Layer (type)                 Output Shape              Param #   \n",
      "=================================================================\n",
      "dense_25 (Dense)             (None, 64)                2304      \n",
      "_________________________________________________________________\n",
      "dense_26 (Dense)             (None, 64)                4160      \n",
      "_________________________________________________________________\n",
      "dense_27 (Dense)             (None, 1)                 65        \n",
      "=================================================================\n",
      "Total params: 6,529\n",
      "Trainable params: 6,529\n",
      "Non-trainable params: 0\n",
      "_________________________________________________________________\n"
     ]
    }
   ],
   "source": [
    "model.summary()"
   ]
  },
  {
   "cell_type": "code",
   "execution_count": 73,
   "metadata": {},
   "outputs": [
    {
     "data": {
      "image/png": "[encoded data removed]",
      "text/plain": [
       "<Figure size 432x288 with 1 Axes>"
      ]
     },
     "metadata": {
      "needs_background": "light"
     },
     "output_type": "display_data"
    }
   ],
   "source": [
    "import matplotlib.pyplot as plt\n",
    "\n",
    "loss = history.history['loss']\n",
    "num_epochs = np.arange(20)\n",
    "plt.plot(num_epochs, loss)\n",
    "plt.savefig(\"test2.png\")\n",
    "plt.show()\n",
    "#plt.savefig(\"test1.png\")"
   ]
  },
  {
   "cell_type": "code",
   "execution_count": 63,
   "metadata": {},
   "outputs": [
    {
     "data": {
      "text/plain": [
       "{'loss': [105.32170161614756,\n",
       "  92.60550403449056,\n",
       "  90.9679266812537,\n",
       "  89.85147898243872,\n",
       "  89.00605591623057,\n",
       "  88.59976287664612,\n",
       "  88.13498686453133,\n",
       "  87.80640523988427,\n",
       "  87.68288998008035,\n",
       "  87.1285900061814,\n",
       "  86.95630358688166,\n",
       "  86.5160981253164,\n",
       "  86.17951088466904,\n",
       "  85.89750142227975,\n",
       "  85.72821056919747,\n",
       "  85.2989752243278,\n",
       "  85.04311428148728,\n",
       "  84.90470482914101,\n",
       "  84.48156626087227,\n",
       "  84.1873607644968,\n",
       "  83.95722100740774,\n",
       "  83.80349446030074,\n",
       "  83.44971206680036,\n",
       "  83.22949499579067,\n",
       "  82.90127502729602,\n",
       "  82.77784038509242,\n",
       "  82.37548146024305,\n",
       "  82.19502541499274,\n",
       "  82.09008952796353,\n",
       "  81.8517330055381],\n",
       " 'mean_squared_error': [105.32170161614756,\n",
       "  92.60550403449056,\n",
       "  90.9679266812537,\n",
       "  89.85147898243872,\n",
       "  89.00605591623057,\n",
       "  88.59976287664612,\n",
       "  88.13498686453133,\n",
       "  87.80640523988427,\n",
       "  87.68288998008035,\n",
       "  87.1285900061814,\n",
       "  86.95630358688166,\n",
       "  86.5160981253164,\n",
       "  86.17951088466904,\n",
       "  85.89750142227975,\n",
       "  85.72821056919747,\n",
       "  85.2989752243278,\n",
       "  85.04311428148728,\n",
       "  84.90470482914101,\n",
       "  84.48156626087227,\n",
       "  84.1873607644968,\n",
       "  83.95722100740774,\n",
       "  83.80349446030074,\n",
       "  83.44971206680036,\n",
       "  83.22949499579067,\n",
       "  82.90127502729602,\n",
       "  82.77784038509242,\n",
       "  82.37548146024305,\n",
       "  82.19502541499274,\n",
       "  82.09008952796353,\n",
       "  81.8517330055381]}"
      ]
     },
     "execution_count": 63,
     "metadata": {},
     "output_type": "execute_result"
    }
   ],
   "source": [
    "history.history"
   ]
  },
  {
   "cell_type": "code",
   "execution_count": null,
   "metadata": {},
   "outputs": [],
   "source": []
  }
 ],
 "metadata": {
  "kernelspec": {
   "display_name": "Python 3",
   "language": "python",
   "name": "python3"
  },
  "language_info": {
   "codemirror_mode": {
    "name": "ipython",
    "version": 3
   },
   "file_extension": ".py",
   "mimetype": "text/x-python",
   "name": "python",
   "nbconvert_exporter": "python",
   "pygments_lexer": "ipython3",
   "version": "3.6.8"
  }
 },
 "nbformat": 4,
 "nbformat_minor": 2
}
