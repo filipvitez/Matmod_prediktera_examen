{
 "cells": [
  {
   "cell_type": "code",
   "execution_count": 1,
   "metadata": {},
   "outputs": [
    {
     "name": "stderr",
     "output_type": "stream",
     "text": [
      "Using TensorFlow backend.\n"
     ]
    }
   ],
   "source": [
    "from __future__ import print_function\n",
    "from keras.models import Sequential\n",
    "from keras.layers import Dense\n",
    "from keras.wrappers.scikit_learn import KerasRegressor\n",
    "from sklearn.model_selection import cross_val_score\n",
    "from sklearn.model_selection import KFold\n",
    "from sklearn.preprocessing import StandardScaler\n",
    "from sklearn.pipeline import Pipeline\n",
    "import math\n",
    "import os\n",
    "os.environ['KMP_DUPLICATE_LIB_OK']='True'\n",
    "from IPython import display\n",
    "from matplotlib import cm\n",
    "from matplotlib import gridspec\n",
    "from matplotlib import pyplot as plt\n",
    "import numpy as np\n",
    "import pandas as pd\n",
    "from sklearn import metrics"
   ]
  },
  {
   "cell_type": "code",
   "execution_count": 2,
   "metadata": {},
   "outputs": [
    {
     "data": {
      "text/html": [
       "<div>\n",
       "<style scoped>\n",
       "    .dataframe tbody tr th:only-of-type {\n",
       "        vertical-align: middle;\n",
       "    }\n",
       "\n",
       "    .dataframe tbody tr th {\n",
       "        vertical-align: top;\n",
       "    }\n",
       "\n",
       "    .dataframe thead th {\n",
       "        text-align: right;\n",
       "    }\n",
       "</style>\n",
       "<table border=\"1\" class=\"dataframe\">\n",
       "  <thead>\n",
       "    <tr style=\"text-align: right;\">\n",
       "      <th></th>\n",
       "      <th>program</th>\n",
       "      <th>lopnr</th>\n",
       "      <th>female</th>\n",
       "      <th>kull</th>\n",
       "      <th>termin</th>\n",
       "      <th>tnr</th>\n",
       "      <th>status</th>\n",
       "      <th>poang_p</th>\n",
       "      <th>kullnr</th>\n",
       "      <th>ptnr</th>\n",
       "    </tr>\n",
       "  </thead>\n",
       "  <tbody>\n",
       "    <tr>\n",
       "      <th>0</th>\n",
       "      <td>E</td>\n",
       "      <td>1</td>\n",
       "      <td>0</td>\n",
       "      <td>20002</td>\n",
       "      <td>20002</td>\n",
       "      <td>15</td>\n",
       "      <td>-7</td>\n",
       "      <td>6.0</td>\n",
       "      <td>15</td>\n",
       "      <td>1</td>\n",
       "    </tr>\n",
       "    <tr>\n",
       "      <th>1</th>\n",
       "      <td>W</td>\n",
       "      <td>2</td>\n",
       "      <td>1</td>\n",
       "      <td>20112</td>\n",
       "      <td>20112</td>\n",
       "      <td>37</td>\n",
       "      <td>-7</td>\n",
       "      <td>15.0</td>\n",
       "      <td>37</td>\n",
       "      <td>1</td>\n",
       "    </tr>\n",
       "    <tr>\n",
       "      <th>2</th>\n",
       "      <td>D</td>\n",
       "      <td>3</td>\n",
       "      <td>1</td>\n",
       "      <td>20032</td>\n",
       "      <td>20032</td>\n",
       "      <td>21</td>\n",
       "      <td>-7</td>\n",
       "      <td>16.5</td>\n",
       "      <td>21</td>\n",
       "      <td>1</td>\n",
       "    </tr>\n",
       "    <tr>\n",
       "      <th>3</th>\n",
       "      <td>N</td>\n",
       "      <td>4</td>\n",
       "      <td>1</td>\n",
       "      <td>20112</td>\n",
       "      <td>20112</td>\n",
       "      <td>37</td>\n",
       "      <td>-7</td>\n",
       "      <td>30.0</td>\n",
       "      <td>37</td>\n",
       "      <td>1</td>\n",
       "    </tr>\n",
       "    <tr>\n",
       "      <th>4</th>\n",
       "      <td>W</td>\n",
       "      <td>5</td>\n",
       "      <td>1</td>\n",
       "      <td>20112</td>\n",
       "      <td>20112</td>\n",
       "      <td>37</td>\n",
       "      <td>-7</td>\n",
       "      <td>0.0</td>\n",
       "      <td>37</td>\n",
       "      <td>1</td>\n",
       "    </tr>\n",
       "  </tbody>\n",
       "</table>\n",
       "</div>"
      ],
      "text/plain": [
       "  program  lopnr  female   kull  termin  tnr  status  poang_p  kullnr  ptnr\n",
       "0       E      1       0  20002   20002   15      -7      6.0      15     1\n",
       "1       W      2       1  20112   20112   37      -7     15.0      37     1\n",
       "2       D      3       1  20032   20032   21      -7     16.5      21     1\n",
       "3       N      4       1  20112   20112   37      -7     30.0      37     1\n",
       "4       W      5       1  20112   20112   37      -7      0.0      37     1"
      ]
     },
     "execution_count": 2,
     "metadata": {},
     "output_type": "execute_result"
    }
   ],
   "source": [
    "#tf.logging.set_verbosity(tf.logging.ERROR)\n",
    "pd.options.display.max_rows = 20\n",
    "pd.options.display.float_format = '{:.1f}'.format\n",
    "\n",
    "semesters = pd.read_csv('terminsstatus_17.txt', sep = '\\t')\n",
    "semesters.head()"
   ]
  },
  {
   "cell_type": "code",
   "execution_count": 3,
   "metadata": {},
   "outputs": [],
   "source": [
    "sorted_on_start_year = semesters.sort_values(by = \"kull\")\n",
    "soty = sorted_on_start_year\n",
    "poang_p = soty['poang_p']"
   ]
  },
  {
   "cell_type": "code",
   "execution_count": 17,
   "metadata": {},
   "outputs": [
    {
     "name": "stdout",
     "output_type": "stream",
     "text": [
      "14.87464250441758\n"
     ]
    }
   ],
   "source": [
    "mean = 0\n",
    "rmse = 0\n",
    "acc = 0\n",
    "mse = 0\n",
    "for i,p in enumerate(poang_p):\n",
    "    mse += np.power(p-mean,2)\n",
    "    acc += p\n",
    "    mean = acc/(i+1)\n",
    "\n",
    "\n",
    "rmse = mse/poang_p.shape[0]\n",
    "rmse = np.sqrt(rmse)\n",
    "\n",
    "print(rmse) "
   ]
  },
  {
   "cell_type": "code",
   "execution_count": 13,
   "metadata": {},
   "outputs": [
    {
     "name": "stdout",
     "output_type": "stream",
     "text": [
      "14.363012154708152\n"
     ]
    }
   ],
   "source": [
    "program_semesters = dict()\n",
    "\n",
    "program = soty.program.unique()\n",
    "for p in program:\n",
    "    ##program_means[p] = semesters[semesters.program == p].poang_p.mean()\n",
    "    program_semesters[p] = soty[soty.program == p].poang_p\n",
    "\n",
    "\n",
    "rmse = 0\n",
    "mean = 0\n",
    "acc = 0\n",
    "rmse_temp = 0\n",
    "for ps in program_semesters:\n",
    "    val = program_semesters.get(ps)\n",
    "    mean = 0\n",
    "    acc = 0\n",
    "    rmse_temp = 0\n",
    "    for i, p in enumerate(val):\n",
    "        rmse_temp += np.power(p-mean, 2)\n",
    "        acc += p\n",
    "        mean = acc/(i+1)\n",
    "    rmse_temp = rmse_temp/val.shape[0]\n",
    "    rmse_temp = np.sqrt(rmse_temp)\n",
    "    rmse += rmse_temp\n",
    "    \n",
    "rmse /= len(program_semesters)\n",
    "\n",
    "print(rmse) "
   ]
  },
  {
   "cell_type": "code",
   "execution_count": 19,
   "metadata": {},
   "outputs": [
    {
     "name": "stdout",
     "output_type": "stream",
     "text": [
      "14.753389114226874\n"
     ]
    }
   ],
   "source": [
    "boy_points = soty[soty.female==0].poang_p\n",
    "girl_points = soty[soty.female==1].poang_p\n",
    "\n",
    "\n",
    "\n",
    "girl_rmse = 0\n",
    "girl_mean = 0\n",
    "girl_acc = 0\n",
    "for i, gp in enumerate(girl_points):\n",
    "     girl_rmse += np.power(gp-girl_mean,2)\n",
    "     girl_acc += gp\n",
    "     girl_mean = girl_acc/(i+1)\n",
    "girl_rmse /= girl_points.shape[0]\n",
    "girl_rmse = np.sqrt(girl_rmse)\n",
    "print(girl_rmse) # 13.31"
   ]
  },
  {
   "cell_type": "code",
   "execution_count": 18,
   "metadata": {},
   "outputs": [
    {
     "name": "stdout",
     "output_type": "stream",
     "text": [
      "21.493375597714618\n",
      "18.123382355970747\n"
     ]
    }
   ],
   "source": [
    "boy_rmse = 0\n",
    "boy_mean = 0\n",
    "boy_acc = 0\n",
    "for j, bp in enumerate(boy_points):\n",
    "    boy_rmse += np.power(bp-boy_mean,2)\n",
    "    boy_acc = 0\n",
    "    boy_mean = boy_acc/(j+1)\n",
    "boy_rmse /= boy_points.shape[0]\n",
    "boy_rmse = np.sqrt(boy_rmse)\n",
    "\n",
    "print(boy_rmse) \n",
    "rmse = (girl_rmse + boy_rmse)/2\n",
    "print(rmse) \n"
   ]
  },
  {
   "cell_type": "code",
   "execution_count": 20,
   "metadata": {},
   "outputs": [],
   "source": [
    "delay_one_term = lambda x: x.shift(+1)\n",
    "prev_semesters = semesters.apply(delay_one_term)\n",
    "mean_points = semesters.poang_p.mean()\n",
    "\n",
    "prev = []\n",
    "for i,s in enumerate(semesters.lopnr):\n",
    "    if s == prev_semesters.at[i,'lopnr']:\n",
    "        prev.append(prev_semesters.at[i, 'poang_p'])\n",
    "    else:\n",
    "        prev.append(mean_points)\n",
    "prev_points_pd = pd.DataFrame(prev)\n",
    "semesters['prev_points'] = prev_points_pd\n"
   ]
  },
  {
   "cell_type": "code",
   "execution_count": 24,
   "metadata": {},
   "outputs": [
    {
     "name": "stdout",
     "output_type": "stream",
     "text": [
      "0    6.0\n",
      "1   15.0\n",
      "2   16.5\n",
      "3   30.0\n",
      "4    0.0\n",
      "Name: poang_p, dtype: float64\n",
      "0   16.1\n",
      "1   16.1\n",
      "2   16.1\n",
      "3   16.1\n",
      "4   16.1\n",
      "Name: prev_points, dtype: float64\n"
     ]
    },
    {
     "data": {
      "text/plain": [
       "13.820403228493069"
      ]
     },
     "execution_count": 24,
     "metadata": {},
     "output_type": "execute_result"
    }
   ],
   "source": [
    "rmse = 0\n",
    "mean = 0\n",
    "acc = 0\n",
    "count = 0\n",
    "\n",
    "p1 = semesters.poang_p\n",
    "p2 = semesters.prev_points\n",
    "\n",
    "print(p1.head())\n",
    "print(p2.head())\n",
    "\n",
    "for i, p in enumerate(p1):\n",
    "    rmse += np.power(p-p2[i], 2)\n",
    "rmse /= len(p1)\n",
    "rmse = np.sqrt(rmse)\n",
    "\n",
    "rmse"
   ]
  },
  {
   "cell_type": "code",
   "execution_count": null,
   "metadata": {},
   "outputs": [],
   "source": []
  }
 ],
 "metadata": {
  "kernelspec": {
   "display_name": "Python 3",
   "language": "python",
   "name": "python3"
  },
  "language_info": {
   "codemirror_mode": {
    "name": "ipython",
    "version": 3
   },
   "file_extension": ".py",
   "mimetype": "text/x-python",
   "name": "python",
   "nbconvert_exporter": "python",
   "pygments_lexer": "ipython3",
   "version": "3.6.8"
  }
 },
 "nbformat": 4,
 "nbformat_minor": 2
}
