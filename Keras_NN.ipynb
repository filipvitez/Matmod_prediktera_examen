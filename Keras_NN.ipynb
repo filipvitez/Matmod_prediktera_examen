{
 "cells": [
  {
   "cell_type": "markdown",
   "metadata": {},
   "source": [
    "# Importera nödvändiga paket"
   ]
  },
  {
   "cell_type": "code",
   "execution_count": 27,
   "metadata": {},
   "outputs": [],
   "source": [
    "from __future__ import print_function\n",
    "from __future__ import division\n",
    "from keras.models import Sequential\n",
    "from keras.layers import Dense\n",
    "from keras.wrappers.scikit_learn import KerasRegressor\n",
    "from sklearn.model_selection import cross_val_score\n",
    "from sklearn.model_selection import KFold\n",
    "from sklearn.preprocessing import StandardScaler\n",
    "from sklearn.pipeline import Pipeline\n",
    "import math\n",
    "import os\n",
    "os.environ['KMP_DUPLICATE_LIB_OK']='True'\n",
    "from IPython import display\n",
    "from matplotlib import cm\n",
    "from matplotlib import gridspec\n",
    "from matplotlib import pyplot as plt\n",
    "import numpy as np\n",
    "import pandas as pd\n",
    "from sklearn import metrics"
   ]
  },
  {
   "cell_type": "markdown",
   "metadata": {},
   "source": [
    "# Läs in terminsdata från csv-fil"
   ]
  },
  {
   "cell_type": "code",
   "execution_count": 2,
   "metadata": {},
   "outputs": [
    {
     "data": {
      "text/html": [
       "<div>\n",
       "<style scoped>\n",
       "    .dataframe tbody tr th:only-of-type {\n",
       "        vertical-align: middle;\n",
       "    }\n",
       "\n",
       "    .dataframe tbody tr th {\n",
       "        vertical-align: top;\n",
       "    }\n",
       "\n",
       "    .dataframe thead th {\n",
       "        text-align: right;\n",
       "    }\n",
       "</style>\n",
       "<table border=\"1\" class=\"dataframe\">\n",
       "  <thead>\n",
       "    <tr style=\"text-align: right;\">\n",
       "      <th></th>\n",
       "      <th>program</th>\n",
       "      <th>lopnr</th>\n",
       "      <th>female</th>\n",
       "      <th>kull</th>\n",
       "      <th>termin</th>\n",
       "      <th>tnr</th>\n",
       "      <th>status</th>\n",
       "      <th>poang_p</th>\n",
       "      <th>kullnr</th>\n",
       "      <th>ptnr</th>\n",
       "    </tr>\n",
       "  </thead>\n",
       "  <tbody>\n",
       "    <tr>\n",
       "      <th>0</th>\n",
       "      <td>E</td>\n",
       "      <td>1</td>\n",
       "      <td>0</td>\n",
       "      <td>20002</td>\n",
       "      <td>20002</td>\n",
       "      <td>15</td>\n",
       "      <td>-7</td>\n",
       "      <td>6.0</td>\n",
       "      <td>15</td>\n",
       "      <td>1</td>\n",
       "    </tr>\n",
       "    <tr>\n",
       "      <th>1</th>\n",
       "      <td>W</td>\n",
       "      <td>2</td>\n",
       "      <td>1</td>\n",
       "      <td>20112</td>\n",
       "      <td>20112</td>\n",
       "      <td>37</td>\n",
       "      <td>-7</td>\n",
       "      <td>15.0</td>\n",
       "      <td>37</td>\n",
       "      <td>1</td>\n",
       "    </tr>\n",
       "    <tr>\n",
       "      <th>2</th>\n",
       "      <td>D</td>\n",
       "      <td>3</td>\n",
       "      <td>1</td>\n",
       "      <td>20032</td>\n",
       "      <td>20032</td>\n",
       "      <td>21</td>\n",
       "      <td>-7</td>\n",
       "      <td>16.5</td>\n",
       "      <td>21</td>\n",
       "      <td>1</td>\n",
       "    </tr>\n",
       "    <tr>\n",
       "      <th>3</th>\n",
       "      <td>N</td>\n",
       "      <td>4</td>\n",
       "      <td>1</td>\n",
       "      <td>20112</td>\n",
       "      <td>20112</td>\n",
       "      <td>37</td>\n",
       "      <td>-7</td>\n",
       "      <td>30.0</td>\n",
       "      <td>37</td>\n",
       "      <td>1</td>\n",
       "    </tr>\n",
       "    <tr>\n",
       "      <th>4</th>\n",
       "      <td>W</td>\n",
       "      <td>5</td>\n",
       "      <td>1</td>\n",
       "      <td>20112</td>\n",
       "      <td>20112</td>\n",
       "      <td>37</td>\n",
       "      <td>-7</td>\n",
       "      <td>0.0</td>\n",
       "      <td>37</td>\n",
       "      <td>1</td>\n",
       "    </tr>\n",
       "  </tbody>\n",
       "</table>\n",
       "</div>"
      ],
      "text/plain": [
       "  program  lopnr  female   kull  termin  tnr  status  poang_p  kullnr  ptnr\n",
       "0       E      1       0  20002   20002   15      -7      6.0      15     1\n",
       "1       W      2       1  20112   20112   37      -7     15.0      37     1\n",
       "2       D      3       1  20032   20032   21      -7     16.5      21     1\n",
       "3       N      4       1  20112   20112   37      -7     30.0      37     1\n",
       "4       W      5       1  20112   20112   37      -7      0.0      37     1"
      ]
     },
     "execution_count": 2,
     "metadata": {},
     "output_type": "execute_result"
    }
   ],
   "source": [
    "#tf.logging.set_verbosity(tf.logging.ERROR)\n",
    "pd.options.display.max_rows = 20\n",
    "pd.options.display.float_format = '{:.1f}'.format\n",
    "pd.set_option('precision', 7)\n",
    "semesters = pd.read_csv('terminsstatus_17.txt', sep = '\\t')\n",
    "semesters.head()"
   ]
  },
  {
   "cell_type": "markdown",
   "metadata": {},
   "source": [
    "# Lägg till kolumn för poäng tagna föregående termin. Om föregående termin ej finns, gissa på medelvärdet av alla terminer "
   ]
  },
  {
   "cell_type": "code",
   "execution_count": 3,
   "metadata": {},
   "outputs": [],
   "source": [
    "delay_one_term = lambda x: x.shift(+1)\n",
    "prev_semesters = semesters.apply(delay_one_term)\n",
    "mean_points = semesters.poang_p.mean()\n",
    "\n",
    "prev = []\n",
    "for i,s in enumerate(semesters.lopnr):\n",
    "    if s == prev_semesters.at[i,'lopnr']:\n",
    "        prev.append(prev_semesters.at[i, 'poang_p'])\n",
    "    else:\n",
    "        prev.append(mean_points)\n",
    "prev_points_pd = pd.DataFrame(prev)\n",
    "semesters['prev_points'] = prev_points_pd"
   ]
  },
  {
   "cell_type": "markdown",
   "metadata": {},
   "source": [
    "# Lägg till kolumn för poäng tagna första termin"
   ]
  },
  {
   "cell_type": "code",
   "execution_count": 4,
   "metadata": {},
   "outputs": [],
   "source": [
    "lopnr_prev = 0\n",
    "points_first_semester = []\n",
    "for i, s in enumerate(semesters.lopnr):\n",
    "    if s != lopnr_prev:\n",
    "        p = semesters.at[i, 'poang_p']\n",
    "        points_first_semester.append(p)\n",
    "    else:\n",
    "        points_first_semester.append(p)\n",
    "    lopnr_prev = s\n",
    "pfs_pd = pd.DataFrame(points_first_semester)\n",
    "semesters['points_first_semester'] = pfs_pd"
   ]
  },
  {
   "cell_type": "markdown",
   "metadata": {},
   "source": [
    "# Lägg till kolumn för ackumulerade poäng"
   ]
  },
  {
   "cell_type": "code",
   "execution_count": 5,
   "metadata": {},
   "outputs": [],
   "source": [
    "lopnr_prev = 0\n",
    "acc_points = []\n",
    "for i, p in enumerate(semesters.lopnr):\n",
    "    if p != lopnr_prev:\n",
    "        acc_points.append(semesters.at[i,'poang_p'])\n",
    "    else:\n",
    "        acc_points.append(acc_points[i-1] + semesters.at[i,'poang_p'])\n",
    "    lopnr_prev = p\n",
    "acc_points_pd = pd.DataFrame(acc_points)\n",
    "#acc_points_pd.head(20)\n",
    "semesters['accumulated_points'] = acc_points_pd"
   ]
  },
  {
   "cell_type": "markdown",
   "metadata": {},
   "source": [
    "# Lägg till kolumn för antalet 0-terminer"
   ]
  },
  {
   "cell_type": "code",
   "execution_count": 6,
   "metadata": {},
   "outputs": [
    {
     "data": {
      "text/html": [
       "<div>\n",
       "<style scoped>\n",
       "    .dataframe tbody tr th:only-of-type {\n",
       "        vertical-align: middle;\n",
       "    }\n",
       "\n",
       "    .dataframe tbody tr th {\n",
       "        vertical-align: top;\n",
       "    }\n",
       "\n",
       "    .dataframe thead th {\n",
       "        text-align: right;\n",
       "    }\n",
       "</style>\n",
       "<table border=\"1\" class=\"dataframe\">\n",
       "  <thead>\n",
       "    <tr style=\"text-align: right;\">\n",
       "      <th></th>\n",
       "      <th>program</th>\n",
       "      <th>lopnr</th>\n",
       "      <th>female</th>\n",
       "      <th>kull</th>\n",
       "      <th>termin</th>\n",
       "      <th>tnr</th>\n",
       "      <th>status</th>\n",
       "      <th>poang_p</th>\n",
       "      <th>kullnr</th>\n",
       "      <th>ptnr</th>\n",
       "      <th>prev_points</th>\n",
       "      <th>points_first_semester</th>\n",
       "      <th>accumulated_points</th>\n",
       "      <th>zero_semesters</th>\n",
       "    </tr>\n",
       "  </thead>\n",
       "  <tbody>\n",
       "    <tr>\n",
       "      <th>0</th>\n",
       "      <td>E</td>\n",
       "      <td>1</td>\n",
       "      <td>0</td>\n",
       "      <td>20002</td>\n",
       "      <td>20002</td>\n",
       "      <td>15</td>\n",
       "      <td>-7</td>\n",
       "      <td>6.0</td>\n",
       "      <td>15</td>\n",
       "      <td>1</td>\n",
       "      <td>16.1</td>\n",
       "      <td>6.0</td>\n",
       "      <td>6.0</td>\n",
       "      <td>0</td>\n",
       "    </tr>\n",
       "    <tr>\n",
       "      <th>1</th>\n",
       "      <td>W</td>\n",
       "      <td>2</td>\n",
       "      <td>1</td>\n",
       "      <td>20112</td>\n",
       "      <td>20112</td>\n",
       "      <td>37</td>\n",
       "      <td>-7</td>\n",
       "      <td>15.0</td>\n",
       "      <td>37</td>\n",
       "      <td>1</td>\n",
       "      <td>16.1</td>\n",
       "      <td>15.0</td>\n",
       "      <td>15.0</td>\n",
       "      <td>0</td>\n",
       "    </tr>\n",
       "    <tr>\n",
       "      <th>2</th>\n",
       "      <td>D</td>\n",
       "      <td>3</td>\n",
       "      <td>1</td>\n",
       "      <td>20032</td>\n",
       "      <td>20032</td>\n",
       "      <td>21</td>\n",
       "      <td>-7</td>\n",
       "      <td>16.5</td>\n",
       "      <td>21</td>\n",
       "      <td>1</td>\n",
       "      <td>16.1</td>\n",
       "      <td>16.5</td>\n",
       "      <td>16.5</td>\n",
       "      <td>0</td>\n",
       "    </tr>\n",
       "    <tr>\n",
       "      <th>3</th>\n",
       "      <td>N</td>\n",
       "      <td>4</td>\n",
       "      <td>1</td>\n",
       "      <td>20112</td>\n",
       "      <td>20112</td>\n",
       "      <td>37</td>\n",
       "      <td>-7</td>\n",
       "      <td>30.0</td>\n",
       "      <td>37</td>\n",
       "      <td>1</td>\n",
       "      <td>16.1</td>\n",
       "      <td>30.0</td>\n",
       "      <td>30.0</td>\n",
       "      <td>0</td>\n",
       "    </tr>\n",
       "    <tr>\n",
       "      <th>4</th>\n",
       "      <td>W</td>\n",
       "      <td>5</td>\n",
       "      <td>1</td>\n",
       "      <td>20112</td>\n",
       "      <td>20112</td>\n",
       "      <td>37</td>\n",
       "      <td>-7</td>\n",
       "      <td>0.0</td>\n",
       "      <td>37</td>\n",
       "      <td>1</td>\n",
       "      <td>16.1</td>\n",
       "      <td>0.0</td>\n",
       "      <td>0.0</td>\n",
       "      <td>1</td>\n",
       "    </tr>\n",
       "  </tbody>\n",
       "</table>\n",
       "</div>"
      ],
      "text/plain": [
       "  program  lopnr  female   kull  termin  tnr  status  poang_p  kullnr  ptnr  \\\n",
       "0       E      1       0  20002   20002   15      -7      6.0      15     1   \n",
       "1       W      2       1  20112   20112   37      -7     15.0      37     1   \n",
       "2       D      3       1  20032   20032   21      -7     16.5      21     1   \n",
       "3       N      4       1  20112   20112   37      -7     30.0      37     1   \n",
       "4       W      5       1  20112   20112   37      -7      0.0      37     1   \n",
       "\n",
       "   prev_points  points_first_semester  accumulated_points  zero_semesters  \n",
       "0         16.1                    6.0                 6.0               0  \n",
       "1         16.1                   15.0                15.0               0  \n",
       "2         16.1                   16.5                16.5               0  \n",
       "3         16.1                   30.0                30.0               0  \n",
       "4         16.1                    0.0                 0.0               1  "
      ]
     },
     "execution_count": 6,
     "metadata": {},
     "output_type": "execute_result"
    }
   ],
   "source": [
    "pd.options.display.max_rows = 40\n",
    "lopnr_prev = 0\n",
    "zero_semesters = [0]*semesters.shape[0]\n",
    "for i, s in enumerate(semesters.lopnr):\n",
    "    if semesters.at[i,'poang_p'] == 0:\n",
    "        if s != lopnr_prev:\n",
    "            zero_semesters[i] += 1\n",
    "        else:\n",
    "            zero_semesters[i] = zero_semesters[i-1]+1\n",
    "        lopnr_prev = s\n",
    "zs_pd = pd.DataFrame(zero_semesters)\n",
    "semesters['zero_semesters'] = zs_pd\n",
    "semesters.head()"
   ]
  },
  {
   "cell_type": "markdown",
   "metadata": {},
   "source": [
    "# Se korrelation mellan features och target"
   ]
  },
  {
   "cell_type": "code",
   "execution_count": 7,
   "metadata": {},
   "outputs": [
    {
     "name": "stdout",
     "output_type": "stream",
     "text": [
      "[[ 1.          0.40068405  0.24993911 -0.51408437  0.54570624]\n",
      " [ 0.40068405  1.          0.3357679  -0.349628    0.40950925]\n",
      " [ 0.24993911  0.3357679   1.         -0.20547186  0.1748101 ]\n",
      " [-0.51408437 -0.349628   -0.20547186  1.         -0.50278541]\n",
      " [ 0.54570624  0.40950925  0.1748101  -0.50278541  1.        ]]\n"
     ]
    },
    {
     "name": "stderr",
     "output_type": "stream",
     "text": [
      "/Users/filipvitez/anaconda3/envs/matmod_env/lib/python3.6/site-packages/ipykernel_launcher.py:3: SettingWithCopyWarning: \n",
      "A value is trying to be set on a copy of a slice from a DataFrame.\n",
      "Try using .loc[row_indexer,col_indexer] = value instead\n",
      "\n",
      "See the caveats in the documentation: http://pandas.pydata.org/pandas-docs/stable/indexing.html#indexing-view-versus-copy\n",
      "  This is separate from the ipykernel package so we can avoid doing imports until\n"
     ]
    },
    {
     "data": {
      "text/html": [
       "<div>\n",
       "<style scoped>\n",
       "    .dataframe tbody tr th:only-of-type {\n",
       "        vertical-align: middle;\n",
       "    }\n",
       "\n",
       "    .dataframe tbody tr th {\n",
       "        vertical-align: top;\n",
       "    }\n",
       "\n",
       "    .dataframe thead th {\n",
       "        text-align: right;\n",
       "    }\n",
       "</style>\n",
       "<table border=\"1\" class=\"dataframe\">\n",
       "  <thead>\n",
       "    <tr style=\"text-align: right;\">\n",
       "      <th></th>\n",
       "      <th>prev_points</th>\n",
       "      <th>points_first_semester</th>\n",
       "      <th>accumulated_points</th>\n",
       "      <th>zero_semesters</th>\n",
       "      <th>target</th>\n",
       "    </tr>\n",
       "  </thead>\n",
       "  <tbody>\n",
       "    <tr>\n",
       "      <th>prev_points</th>\n",
       "      <td>1.0</td>\n",
       "      <td>0.4</td>\n",
       "      <td>0.2</td>\n",
       "      <td>-0.5</td>\n",
       "      <td>0.5</td>\n",
       "    </tr>\n",
       "    <tr>\n",
       "      <th>points_first_semester</th>\n",
       "      <td>0.4</td>\n",
       "      <td>1.0</td>\n",
       "      <td>0.3</td>\n",
       "      <td>-0.3</td>\n",
       "      <td>0.4</td>\n",
       "    </tr>\n",
       "    <tr>\n",
       "      <th>accumulated_points</th>\n",
       "      <td>0.2</td>\n",
       "      <td>0.3</td>\n",
       "      <td>1.0</td>\n",
       "      <td>-0.2</td>\n",
       "      <td>0.2</td>\n",
       "    </tr>\n",
       "    <tr>\n",
       "      <th>zero_semesters</th>\n",
       "      <td>-0.5</td>\n",
       "      <td>-0.3</td>\n",
       "      <td>-0.2</td>\n",
       "      <td>1.0</td>\n",
       "      <td>-0.5</td>\n",
       "    </tr>\n",
       "    <tr>\n",
       "      <th>target</th>\n",
       "      <td>0.5</td>\n",
       "      <td>0.4</td>\n",
       "      <td>0.2</td>\n",
       "      <td>-0.5</td>\n",
       "      <td>1.0</td>\n",
       "    </tr>\n",
       "  </tbody>\n",
       "</table>\n",
       "</div>"
      ],
      "text/plain": [
       "                       prev_points  points_first_semester  accumulated_points  \\\n",
       "prev_points                    1.0                    0.4                 0.2   \n",
       "points_first_semester          0.4                    1.0                 0.3   \n",
       "accumulated_points             0.2                    0.3                 1.0   \n",
       "zero_semesters                -0.5                   -0.3                -0.2   \n",
       "target                         0.5                    0.4                 0.2   \n",
       "\n",
       "                       zero_semesters  target  \n",
       "prev_points                      -0.5     0.5  \n",
       "points_first_semester            -0.3     0.4  \n",
       "accumulated_points               -0.2     0.2  \n",
       "zero_semesters                    1.0    -0.5  \n",
       "target                           -0.5     1.0  "
      ]
     },
     "execution_count": 7,
     "metadata": {},
     "output_type": "execute_result"
    }
   ],
   "source": [
    "pd.set_option(\"display.precision\", 5)\n",
    "correlation_dataframe = semesters[['prev_points', 'points_first_semester', 'accumulated_points', 'zero_semesters']]\n",
    "correlation_dataframe[\"target\"] = semesters[\"poang_p\"]\n",
    "#with pd.option_context('display.float_format', '{:0.20f}'.format):\n",
    "print((correlation_dataframe.corr(method ='pearson')).values)\n",
    "(correlation_dataframe.corr(method ='pearson'))\n"
   ]
  },
  {
   "cell_type": "markdown",
   "metadata": {},
   "source": [
    "# One hot-encoda program, kull och status (lopnr hade också behövts men blir för lång vektor)"
   ]
  },
  {
   "cell_type": "code",
   "execution_count": 8,
   "metadata": {},
   "outputs": [],
   "source": [
    "semesters['one_hot'] = pd.Categorical(semesters['program'])\n",
    "\n",
    "dfDummies = pd.get_dummies(semesters['one_hot'])\n",
    "semesters2 = pd.concat([semesters, dfDummies],axis=1)\n",
    "\n",
    "semesters2['one_hot2'] = pd.Categorical(semesters2['kull'])\n",
    "one_hot_kull = pd.get_dummies(semesters2['one_hot2'])\n",
    "\n",
    "\n",
    "one_hot_termstatus = pd.get_dummies(semesters2['status'])\n",
    "\n",
    "semesters2 = pd.concat([semesters2, one_hot_kull], axis=1)\n",
    "semesters2 = pd.concat([semesters2, one_hot_termstatus], axis=1)"
   ]
  },
  {
   "cell_type": "markdown",
   "metadata": {},
   "source": [
    "# Välj vilka features vi vill ha till det neurala nätverket"
   ]
  },
  {
   "cell_type": "code",
   "execution_count": 42,
   "metadata": {},
   "outputs": [
    {
     "name": "stdout",
     "output_type": "stream",
     "text": [
      "11260.378214065691\n",
      "5693.381743515426\n",
      "-1.9776257277829212\n"
     ]
    },
    {
     "data": {
      "text/plain": [
       "array([-1.9776257, -1.9774501, -1.9772744, ...,  1.9827621,  1.9829378,\n",
       "        1.9831134], dtype=float32)"
      ]
     },
     "execution_count": 42,
     "metadata": {},
     "output_type": "execute_result"
    }
   ],
   "source": [
    "mean = lopnummer.describe()['mean']\n",
    "std = lopnummer.describe()['std']\n",
    "print(mean)\n",
    "print(std)\n",
    "\n",
    "lopnr_list = [0]*len(semesters.lopnr)\n",
    "lopnummer = semesters2.lopnr\n",
    "for i, l in enumerate(lopnummer):\n",
    "    ll = float((float(l) - mean)/std)\n",
    "    lopnr_list[i] = ll\n",
    "\n",
    "print(lopnr_list[0])\n",
    "npa = np.asarray(lopnr_list, dtype=np.float32)\n",
    "npa\n",
    "pd.options.display.precision = 5\n",
    "lopnr_scaled = pd.DataFrame(npa, dtype=np.float32)\n",
    "lopnr_scaled.values\n",
    "semesters2['lopnr_scaled'] = lopnr_scaled.values\n",
    "semesters2.lopnr_scaled.values"
   ]
  },
  {
   "cell_type": "code",
   "execution_count": 146,
   "metadata": {},
   "outputs": [
    {
     "name": "stdout",
     "output_type": "stream",
     "text": [
      "[[16.11571366  6.          6.         ...  0.          0.\n",
      "   0.        ]\n",
      " [16.11571366 15.         15.         ...  0.          0.\n",
      "   0.        ]\n",
      " [16.11571366 16.5        16.5        ...  0.          0.\n",
      "   0.        ]\n",
      " ...\n",
      " [16.11571366 12.         12.         ...  0.          0.\n",
      "   0.        ]\n",
      " [16.11571366  0.          0.         ...  0.          0.\n",
      "   0.        ]\n",
      " [16.11571366  0.          0.         ...  0.          0.\n",
      "   0.        ]]\n"
     ]
    },
    {
     "data": {
      "text/plain": [
       "(246728, 19)"
      ]
     },
     "execution_count": 146,
     "metadata": {},
     "output_type": "execute_result"
    }
   ],
   "source": [
    "#x = (semesters2[['status', 'prev_points', 'points_first_semester', 'accumulated_points', 'zero_semesters', 'B', 'C', 'D', 'E', 'F', 'G', 'I', 'K', 'L', 'M', 'N', 'P', 'T', 'V', 'W', 19932, 19942,19952,19962, 19972, 19982, 19992, 20002,20012,20022, 20032, 20042, 20052, 20062, 20072, 20082, 20092, 20102, 20112,20132, 20142, 20152]]).values\n",
    "#x = (semesters2[['lopnr','female','status', 'prev_points', 'points_first_semester', 'accumulated_points', 'zero_semesters', 'B', 'C', 'D', 'E', 'F', 'G', 'I', 'K', 'L', 'M', 'N', 'P', 'T', 'V', 'W']]).values\n",
    "#x = (semesters2[['lopnr_scaled', 'female', 'prev_points', 'points_first_semester', 'accumulated_points', 'zero_semesters', 'B', 'C', 'D', 'E', 'F', 'G', 'I', 'K', 'L', 'M', 'N', 'P', 'T', 'V', 'W', -7, -5, -4, -3, -2, 1,2,3,4,5,6,7,8,9,10]]).values\n",
    "#x = (semesters2[['lopnr_scaled', 'female', 'B', 'C', 'D', 'E', 'F', 'G', 'I', 'K', 'L', 'M', 'N', 'P', 'T', 'V', 'W', -7, -5, -4, -3, -2, 1,2,3,4,5,6,7,8,9,10]]).values\n",
    "#x = (semesters2[['female', 'prev_points', 'points_first_semester', 'accumulated_points', 'zero_semesters', -7, -5, -4, -3, -2, 1,2,3,4,5,6,7,8,9,10]]).values\n",
    "x = (semesters2[['prev_points', 'points_first_semester', 'accumulated_points', 'zero_semesters', -7, -5, -4, -3, -2, 1,2,3,4,5,6,7,8,9,10]]).values\n",
    "y = semesters2.iloc[:, 8].values\n",
    "\n",
    "\n",
    "\n",
    "print(x)\n",
    "x.shape\n"
   ]
  },
  {
   "cell_type": "markdown",
   "metadata": {},
   "source": [
    "# Scalea numeriska features (används ej)"
   ]
  },
  {
   "cell_type": "code",
   "execution_count": 9,
   "metadata": {},
   "outputs": [],
   "source": [
    "#for xx in x:\n",
    " #   xx[0] = float((float(xx[0]) - mean)/std)\n",
    "    #xx[1] = float((float(xx[2]) - mean)/std)\n",
    "    #xx[2] = float((float(xx[3]) - mean)/std)\n",
    "    #xx[3] = float((float(xx[4]) - mean)/std)\n",
    "    #xx[4] = float((float(xx[5]) - mean)/std)\n",
    "\n",
    "#from sklearn.preprocessing import StandardScaler\n",
    "#sc = StandardScaler()\n",
    "#X_train[:,0] = sc.fit_transform(X_train[:,0])\n",
    "#X_test[:,0] = sc.transform(X_test[:,0])\n"
   ]
  },
  {
   "cell_type": "markdown",
   "metadata": {},
   "source": [
    "# Dela upp i träning och test"
   ]
  },
  {
   "cell_type": "code",
   "execution_count": 140,
   "metadata": {},
   "outputs": [],
   "source": [
    "# Splitting the dataset into the Training set and Test set\n",
    "from sklearn.model_selection import train_test_split\n",
    "X_train, X_test, y_train, y_test = train_test_split(x, y, test_size = 0.2)\n",
    "#X_train, X_val, y_train, y_val = train_test_split(X_train, y_train, test_size = 0.2)"
   ]
  },
  {
   "cell_type": "markdown",
   "metadata": {},
   "source": [
    "# Building the NN"
   ]
  },
  {
   "cell_type": "code",
   "execution_count": 141,
   "metadata": {},
   "outputs": [],
   "source": [
    "# Importing the Keras libraries and packages\n",
    "import keras\n",
    "from keras.models import Sequential\n",
    "from keras.layers import Dense\n",
    "model = Sequential()\n",
    "model.add(Dense(128, input_dim=19, kernel_initializer='normal', \n",
    "                activation='relu'))\n",
    "model.add(Dense(128, kernel_initializer='normal', \n",
    "                activation='relu'))\n",
    "model.add(Dense(128, kernel_initializer='normal', \n",
    "                activation='relu'))\n",
    "#model.add(Dropout(0.5))\n",
    "model.add(Dense(1, kernel_initializer='normal'))\n",
    "\n"
   ]
  },
  {
   "cell_type": "markdown",
   "metadata": {},
   "source": [
    "# Running the neural network"
   ]
  },
  {
   "cell_type": "code",
   "execution_count": 142,
   "metadata": {},
   "outputs": [
    {
     "name": "stdout",
     "output_type": "stream",
     "text": [
      "Train on 177643 samples, validate on 19739 samples\n",
      "Epoch 1/10\n",
      "177643/177643 [==============================] - 11s 63us/step - loss: 117.2301 - mean_squared_error: 117.2301 - val_loss: 106.5146 - val_mean_squared_error: 106.5146\n",
      "Epoch 2/10\n",
      "177643/177643 [==============================] - 10s 56us/step - loss: 107.0700 - mean_squared_error: 107.0700 - val_loss: 110.0199 - val_mean_squared_error: 110.0199\n",
      "Epoch 3/10\n",
      "177643/177643 [==============================] - 11s 63us/step - loss: 105.8573 - mean_squared_error: 105.8573 - val_loss: 104.7823 - val_mean_squared_error: 104.7823\n",
      "Epoch 4/10\n",
      "177643/177643 [==============================] - 11s 61us/step - loss: 105.0550 - mean_squared_error: 105.0550 - val_loss: 107.8787 - val_mean_squared_error: 107.8787\n",
      "Epoch 5/10\n",
      "177643/177643 [==============================] - 11s 60us/step - loss: 104.2517 - mean_squared_error: 104.2517 - val_loss: 105.8823 - val_mean_squared_error: 105.8823\n",
      "Epoch 6/10\n",
      "177643/177643 [==============================] - 10s 58us/step - loss: 104.1726 - mean_squared_error: 104.1726 - val_loss: 107.3687 - val_mean_squared_error: 107.3687\n",
      "Epoch 7/10\n",
      "177643/177643 [==============================] - 11s 60us/step - loss: 103.7617 - mean_squared_error: 103.7617 - val_loss: 104.4887 - val_mean_squared_error: 104.4887\n",
      "Epoch 8/10\n",
      "177643/177643 [==============================] - 11s 63us/step - loss: 103.4013 - mean_squared_error: 103.4013 - val_loss: 103.3965 - val_mean_squared_error: 103.3965\n",
      "Epoch 9/10\n",
      "177643/177643 [==============================] - 12s 66us/step - loss: 103.3333 - mean_squared_error: 103.3333 - val_loss: 104.2404 - val_mean_squared_error: 104.2404\n",
      "Epoch 10/10\n",
      "177643/177643 [==============================] - 11s 64us/step - loss: 103.3211 - mean_squared_error: 103.3211 - val_loss: 102.7779 - val_mean_squared_error: 102.7779\n"
     ]
    }
   ],
   "source": [
    "# Compile model\n",
    "\n",
    "model.compile(loss='mean_squared_error', optimizer='adam',\n",
    "              metrics=['mse'])\n",
    "\n",
    "history = model.fit(X_train,y_train, validation_split=0.1, epochs=10, batch_size=128)"
   ]
  },
  {
   "cell_type": "markdown",
   "metadata": {},
   "source": [
    "# Model overview"
   ]
  },
  {
   "cell_type": "code",
   "execution_count": 143,
   "metadata": {},
   "outputs": [
    {
     "name": "stdout",
     "output_type": "stream",
     "text": [
      "_________________________________________________________________\n",
      "Layer (type)                 Output Shape              Param #   \n",
      "=================================================================\n",
      "dense_41 (Dense)             (None, 128)               2560      \n",
      "_________________________________________________________________\n",
      "dense_42 (Dense)             (None, 128)               16512     \n",
      "_________________________________________________________________\n",
      "dense_43 (Dense)             (None, 128)               16512     \n",
      "_________________________________________________________________\n",
      "dense_44 (Dense)             (None, 1)                 129       \n",
      "=================================================================\n",
      "Total params: 35,713\n",
      "Trainable params: 35,713\n",
      "Non-trainable params: 0\n",
      "_________________________________________________________________\n"
     ]
    }
   ],
   "source": [
    "model.summary()"
   ]
  },
  {
   "cell_type": "code",
   "execution_count": 145,
   "metadata": {},
   "outputs": [
    {
     "data": {
      "image/png": "[encoded data removed]",
      "text/plain": [
       "<Figure size 432x288 with 1 Axes>"
      ]
     },
     "metadata": {
      "needs_background": "light"
     },
     "output_type": "display_data"
    }
   ],
   "source": [
    "import matplotlib.pyplot as plt\n",
    "\n",
    "loss = history.history['loss']\n",
    "loss2 = history.history['val_loss']\n",
    "num_epochs = np.arange(10)\n",
    "#plt.plot(num_epochs, loss,loss2)\n",
    "plt.plot(num_epochs, loss)\n",
    "plt.savefig(\"test16.png\") #------# Kommentera bort denna för att undvika att bild sparas i mapp #------#\n",
    "plt.show()\n",
    "#plt.savefig(\"test1.png\")"
   ]
  },
  {
   "cell_type": "code",
   "execution_count": 63,
   "metadata": {},
   "outputs": [
    {
     "data": {
      "text/plain": [
       "{'loss': [105.32170161614756,\n",
       "  92.60550403449056,\n",
       "  90.9679266812537,\n",
       "  89.85147898243872,\n",
       "  89.00605591623057,\n",
       "  88.59976287664612,\n",
       "  88.13498686453133,\n",
       "  87.80640523988427,\n",
       "  87.68288998008035,\n",
       "  87.1285900061814,\n",
       "  86.95630358688166,\n",
       "  86.5160981253164,\n",
       "  86.17951088466904,\n",
       "  85.89750142227975,\n",
       "  85.72821056919747,\n",
       "  85.2989752243278,\n",
       "  85.04311428148728,\n",
       "  84.90470482914101,\n",
       "  84.48156626087227,\n",
       "  84.1873607644968,\n",
       "  83.95722100740774,\n",
       "  83.80349446030074,\n",
       "  83.44971206680036,\n",
       "  83.22949499579067,\n",
       "  82.90127502729602,\n",
       "  82.77784038509242,\n",
       "  82.37548146024305,\n",
       "  82.19502541499274,\n",
       "  82.09008952796353,\n",
       "  81.8517330055381],\n",
       " 'mean_squared_error': [105.32170161614756,\n",
       "  92.60550403449056,\n",
       "  90.9679266812537,\n",
       "  89.85147898243872,\n",
       "  89.00605591623057,\n",
       "  88.59976287664612,\n",
       "  88.13498686453133,\n",
       "  87.80640523988427,\n",
       "  87.68288998008035,\n",
       "  87.1285900061814,\n",
       "  86.95630358688166,\n",
       "  86.5160981253164,\n",
       "  86.17951088466904,\n",
       "  85.89750142227975,\n",
       "  85.72821056919747,\n",
       "  85.2989752243278,\n",
       "  85.04311428148728,\n",
       "  84.90470482914101,\n",
       "  84.48156626087227,\n",
       "  84.1873607644968,\n",
       "  83.95722100740774,\n",
       "  83.80349446030074,\n",
       "  83.44971206680036,\n",
       "  83.22949499579067,\n",
       "  82.90127502729602,\n",
       "  82.77784038509242,\n",
       "  82.37548146024305,\n",
       "  82.19502541499274,\n",
       "  82.09008952796353,\n",
       "  81.8517330055381]}"
      ]
     },
     "execution_count": 63,
     "metadata": {},
     "output_type": "execute_result"
    }
   ],
   "source": [
    "history.history"
   ]
  },
  {
   "cell_type": "code",
   "execution_count": 111,
   "metadata": {},
   "outputs": [
    {
     "name": "stdout",
     "output_type": "stream",
     "text": [
      "49346/49346 [==============================] - 1s 28us/step\n",
      "mean_squared_error 79.59192681265212\n"
     ]
    }
   ],
   "source": [
    "# evaluate the model\n",
    "scores = model.evaluate(X_test, y_test)\n",
    "\n",
    "print(model.metrics_names[1], scores[1])\n",
    "\n",
    "#scores2 = model.predict(X_test, y_test)"
   ]
  },
  {
   "cell_type": "code",
   "execution_count": null,
   "metadata": {},
   "outputs": [],
   "source": []
  }
 ],
 "metadata": {
  "kernelspec": {
   "display_name": "Python 3",
   "language": "python",
   "name": "python3"
  },
  "language_info": {
   "codemirror_mode": {
    "name": "ipython",
    "version": 3
   },
   "file_extension": ".py",
   "mimetype": "text/x-python",
   "name": "python",
   "nbconvert_exporter": "python",
   "pygments_lexer": "ipython3",
   "version": "3.6.8"
  }
 },
 "nbformat": 4,
 "nbformat_minor": 2
}
